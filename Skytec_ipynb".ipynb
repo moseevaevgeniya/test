{
  "nbformat": 4,
  "nbformat_minor": 0,
  "metadata": {
    "colab": {
      "provenance": [],
      "authorship_tag": "ABX9TyO1HkywnWQckpLThHGcQqN1",
      "include_colab_link": true
    },
    "kernelspec": {
      "name": "python3",
      "display_name": "Python 3"
    },
    "language_info": {
      "name": "python"
    }
  },
  "cells": [
    {
      "cell_type": "markdown",
      "metadata": {
        "id": "view-in-github",
        "colab_type": "text"
      },
      "source": [
        "<a href=\"https://colab.research.google.com/github/moseevaevgeniya/test/blob/main/Skytec_ipynb%22.ipynb\" target=\"_parent\"><img src=\"https://colab.research.google.com/assets/colab-badge.svg\" alt=\"Open In Colab\"/></a>"
      ]
    },
    {
      "cell_type": "markdown",
      "source": [
        "# **5. Связь рекламного траффика и органического** <div id=\"header\" align=\"center\">\n",
        "  <img src=\"https://media.giphy.com/media/40cxBsgqqwb65M5ivp/giphy.gif\" width='200'/>\n",
        "</div>"
      ],
      "metadata": {
        "id": "J8HiRUZtAcZw"
      }
    },
    {
      "cell_type": "markdown",
      "source": [
        "**Описание задачи:**  \n",
        " Приток новых игроков делится на 2 основных источника - рекламный и органический.\n",
        " Отдел маркетинг выдвигает гипотезу о связи рекламного и органического траффика: когда маркетологи привлекают больше рекламного траффика, растет и органический.\n",
        "Для выполнения задачи необходимо использовать тестовый датасет (таблица source_comparison).\n",
        "1.\tПодтвердите или опровергните гипотезу маркетологов. Если вы ее опровергаете, то сформулируйте гипотезу которая кажется вам наиболее вероятной и проверьте ее\n",
        "2.\tКоличественно рассчитайте вероятность что гипотеза маркетологов (или ваша) верна\n"
      ],
      "metadata": {
        "id": "6zEGxoprKvj4"
      }
    },
    {
      "cell_type": "markdown",
      "source": [
        "### 5.1 Осмотр и изучение данных"
      ],
      "metadata": {
        "id": "l3V1diOyAcF5"
      }
    },
    {
      "cell_type": "code",
      "source": [
        "import sqlite3 # Импортируем библиотеку для работы с базой данных SQLite\n",
        "import pandas as pd # Импортируем библиотеку обработки и анализа данных pandas\n",
        "import numpy as np # Импортируем библиотеку для анализа данных и для работы с массивами\n",
        "from scipy.stats import pearsonr # Импортируем библиотеку для статистического анализа,\n",
        "# в частности, для вычисления коэффициента корреляции Пирсона и p-значения для тестирования некорреляции\n",
        "import matplotlib.pyplot as plt\n",
        "from scipy.stats import spearmanr\n",
        "from datetime import datetime\n"
      ],
      "metadata": {
        "id": "g7WlpVak7rra"
      },
      "execution_count": 1,
      "outputs": []
    },
    {
      "cell_type": "code",
      "source": [
        "# Для загрузки данных используем drive\n",
        "from google.colab import drive\n",
        "drive.mount('/content/gdrive')"
      ],
      "metadata": {
        "colab": {
          "base_uri": "https://localhost:8080/"
        },
        "id": "pzdgm83wxhnJ",
        "outputId": "87299fbc-f2cd-4b48-b55f-980422cb133b"
      },
      "execution_count": 2,
      "outputs": [
        {
          "output_type": "stream",
          "name": "stdout",
          "text": [
            "Mounted at /content/gdrive\n"
          ]
        }
      ]
    },
    {
      "cell_type": "code",
      "source": [
        "# Подключимся к базе данных SQLite\n",
        "conn = sqlite3.connect('/content/gdrive/MyDrive/УИИ/Skytec_Games/testcase.db')\n",
        "\n",
        "# Выполним запрос к базе данных, чтобы получить имена таблиц\n",
        "query = \"SELECT name FROM sqlite_master WHERE type='table';\"\n",
        "tables = pd.read_sql_query(query, conn)\n",
        "\n",
        "# Отобразим названия таблиц\n",
        "print(\"Tables in the database:\", tables['name'].tolist())\n",
        "\n",
        "# Не забудем закрыть соединение\n",
        "conn.close()"
      ],
      "metadata": {
        "colab": {
          "base_uri": "https://localhost:8080/"
        },
        "id": "OdGDfvxnypCo",
        "outputId": "a01f70e8-7926-46b5-f965-e8a387f5d1ba"
      },
      "execution_count": 3,
      "outputs": [
        {
          "output_type": "stream",
          "name": "stdout",
          "text": [
            "Tables in the database: ['source_comparison', 'costs', 'revenue']\n"
          ]
        }
      ]
    },
    {
      "cell_type": "code",
      "source": [
        "# Подключимся к базе данных SQLite\n",
        "conn = sqlite3.connect('/content/gdrive/MyDrive/УИИ/Skytec_Games/testcase.db')\n",
        "# Прочитаем данные из каждой таблицы\n",
        "source_comparison_df = pd.read_sql_query(\"SELECT * FROM source_comparison\", conn)\n",
        "costs_df = pd.read_sql_query(\"SELECT * FROM costs\", conn)\n",
        "revenue_df = pd.read_sql_query(\"SELECT * FROM revenue\", conn)\n",
        "\n",
        "# Выводим первые нескольких строк каждого фрейма данных\n",
        "print(\"Source Comparison Data:\")\n",
        "print(source_comparison_df.head())\n",
        "\n",
        "print(\"\\nCosts Data:\")\n",
        "print(costs_df.head())\n",
        "\n",
        "print(\"\\nRevenue Data:\")\n",
        "print(revenue_df.head())\n",
        "\n",
        "# Не забудем закрыть соединение\n",
        "conn.close()"
      ],
      "metadata": {
        "colab": {
          "base_uri": "https://localhost:8080/"
        },
        "id": "_4rXFd-y2AB4",
        "outputId": "c5d3167c-4495-44a1-8d38-904984147e6f"
      },
      "execution_count": 4,
      "outputs": [
        {
          "output_type": "stream",
          "name": "stdout",
          "text": [
            "Source Comparison Data:\n",
            "  Install_Dates source_type Country  installs\n",
            "0    2020-05-18        Paid      PY       4.0\n",
            "1    2020-04-14        Paid      FR      35.0\n",
            "2    2020-04-30        Paid      JP      25.0\n",
            "3    2020-03-20        Paid      DE      11.0\n",
            "4    2020-04-30        Paid      IT       8.0\n",
            "\n",
            "Costs Data:\n",
            "  Install_Dates  campaign_id Country  installs  spends\n",
            "0    2020-04-14        90570      CZ      35.0   19.79\n",
            "1    2020-04-28        90619      AT       5.0    4.99\n",
            "2    2020-05-10       794235      PK      79.0    0.40\n",
            "3    2020-05-07        91872      FR      12.0    9.56\n",
            "4    2020-04-03        19115      JP       6.0    3.39\n",
            "\n",
            "Revenue Data:\n",
            "  Install_Dates  campaign_id Country     1d_LTV     3d_LTV     7d_LTV  \\\n",
            "0    2020-04-14        90570      CZ   7.721194   8.104811  10.209480   \n",
            "1    2020-03-30        90262      CA   1.424363   1.724738   1.724738   \n",
            "2    2020-04-02        19115      PL  26.912006  32.943050  66.787497   \n",
            "3    2020-04-15       788948      MD   0.000000   0.000000   0.000000   \n",
            "4    2020-03-26       158583      DE   0.349793   0.349793   0.349793   \n",
            "\n",
            "     14d_LTV    30d_LTV    60d_LTV  \n",
            "0  11.845200  15.349594  15.768420  \n",
            "1   1.724738   1.724738   1.999413  \n",
            "2  70.071922  71.644023  72.057026  \n",
            "3   0.000000   0.000000   0.000000  \n",
            "4   0.349793   0.349793   0.349793  \n"
          ]
        }
      ]
    },
    {
      "cell_type": "markdown",
      "source": [
        "**В `source_comparison_df`  есть 4 столбца: `Install_Dates`, `source_type`, `Country` и `installs`.**"
      ],
      "metadata": {
        "id": "VBcdUBiHABhB"
      }
    },
    {
      "cell_type": "markdown",
      "source": [
        "### 5.2 Решение"
      ],
      "metadata": {
        "id": "m-n2olwDNvR3"
      }
    },
    {
      "cell_type": "markdown",
      "source": [
        "Чтобы проанализировать взаимосвязь между платным (рекламой) и органическим трафиком, мы выполним следующие шаги:\n",
        "\n",
        "1. Разделим данные на две группы на основе source_type (Платные и органические).  \n",
        "2. Объединим данные по `Install_Dates`, чтобы получить ежедневные итоги для каждого типа источника.  \n",
        "3. Проведем корреляционный анализ, чтобы увидеть, существует ли взаимосвязь между ежедневным количеством платных и обычных установок.                          "
      ],
      "metadata": {
        "id": "cuOQs-1sD3ZA"
      }
    },
    {
      "cell_type": "code",
      "source": [
        "# Подключимся к базе данных SQLite\n",
        "conn = sqlite3.connect('/content/gdrive/MyDrive/УИИ/Skytec_Games/testcase.db')\n",
        "# Прочитаем данные из каждой таблицы\n",
        "source_comparison_df = pd.read_sql_query(\"SELECT * FROM source_comparison\", conn)\n",
        "\n",
        "# Закроем соединение\n",
        "conn.close()\n",
        "\n",
        "# Выводим первых нескольких строк датафрейма\n",
        "source_comparison_df.head()\n"
      ],
      "metadata": {
        "colab": {
          "base_uri": "https://localhost:8080/",
          "height": 206
        },
        "id": "0F-ANczmD24v",
        "outputId": "bc114e8d-1aa5-4528-af38-ddf6597def4b"
      },
      "execution_count": 5,
      "outputs": [
        {
          "output_type": "execute_result",
          "data": {
            "text/plain": [
              "  Install_Dates source_type Country  installs\n",
              "0    2020-05-18        Paid      PY       4.0\n",
              "1    2020-04-14        Paid      FR      35.0\n",
              "2    2020-04-30        Paid      JP      25.0\n",
              "3    2020-03-20        Paid      DE      11.0\n",
              "4    2020-04-30        Paid      IT       8.0"
            ],
            "text/html": [
              "\n",
              "  <div id=\"df-a01b65f2-ef35-4e77-8d83-874fb570ca97\" class=\"colab-df-container\">\n",
              "    <div>\n",
              "<style scoped>\n",
              "    .dataframe tbody tr th:only-of-type {\n",
              "        vertical-align: middle;\n",
              "    }\n",
              "\n",
              "    .dataframe tbody tr th {\n",
              "        vertical-align: top;\n",
              "    }\n",
              "\n",
              "    .dataframe thead th {\n",
              "        text-align: right;\n",
              "    }\n",
              "</style>\n",
              "<table border=\"1\" class=\"dataframe\">\n",
              "  <thead>\n",
              "    <tr style=\"text-align: right;\">\n",
              "      <th></th>\n",
              "      <th>Install_Dates</th>\n",
              "      <th>source_type</th>\n",
              "      <th>Country</th>\n",
              "      <th>installs</th>\n",
              "    </tr>\n",
              "  </thead>\n",
              "  <tbody>\n",
              "    <tr>\n",
              "      <th>0</th>\n",
              "      <td>2020-05-18</td>\n",
              "      <td>Paid</td>\n",
              "      <td>PY</td>\n",
              "      <td>4.0</td>\n",
              "    </tr>\n",
              "    <tr>\n",
              "      <th>1</th>\n",
              "      <td>2020-04-14</td>\n",
              "      <td>Paid</td>\n",
              "      <td>FR</td>\n",
              "      <td>35.0</td>\n",
              "    </tr>\n",
              "    <tr>\n",
              "      <th>2</th>\n",
              "      <td>2020-04-30</td>\n",
              "      <td>Paid</td>\n",
              "      <td>JP</td>\n",
              "      <td>25.0</td>\n",
              "    </tr>\n",
              "    <tr>\n",
              "      <th>3</th>\n",
              "      <td>2020-03-20</td>\n",
              "      <td>Paid</td>\n",
              "      <td>DE</td>\n",
              "      <td>11.0</td>\n",
              "    </tr>\n",
              "    <tr>\n",
              "      <th>4</th>\n",
              "      <td>2020-04-30</td>\n",
              "      <td>Paid</td>\n",
              "      <td>IT</td>\n",
              "      <td>8.0</td>\n",
              "    </tr>\n",
              "  </tbody>\n",
              "</table>\n",
              "</div>\n",
              "    <div class=\"colab-df-buttons\">\n",
              "\n",
              "  <div class=\"colab-df-container\">\n",
              "    <button class=\"colab-df-convert\" onclick=\"convertToInteractive('df-a01b65f2-ef35-4e77-8d83-874fb570ca97')\"\n",
              "            title=\"Convert this dataframe to an interactive table.\"\n",
              "            style=\"display:none;\">\n",
              "\n",
              "  <svg xmlns=\"http://www.w3.org/2000/svg\" height=\"24px\" viewBox=\"0 -960 960 960\">\n",
              "    <path d=\"M120-120v-720h720v720H120Zm60-500h600v-160H180v160Zm220 220h160v-160H400v160Zm0 220h160v-160H400v160ZM180-400h160v-160H180v160Zm440 0h160v-160H620v160ZM180-180h160v-160H180v160Zm440 0h160v-160H620v160Z\"/>\n",
              "  </svg>\n",
              "    </button>\n",
              "\n",
              "  <style>\n",
              "    .colab-df-container {\n",
              "      display:flex;\n",
              "      gap: 12px;\n",
              "    }\n",
              "\n",
              "    .colab-df-convert {\n",
              "      background-color: #E8F0FE;\n",
              "      border: none;\n",
              "      border-radius: 50%;\n",
              "      cursor: pointer;\n",
              "      display: none;\n",
              "      fill: #1967D2;\n",
              "      height: 32px;\n",
              "      padding: 0 0 0 0;\n",
              "      width: 32px;\n",
              "    }\n",
              "\n",
              "    .colab-df-convert:hover {\n",
              "      background-color: #E2EBFA;\n",
              "      box-shadow: 0px 1px 2px rgba(60, 64, 67, 0.3), 0px 1px 3px 1px rgba(60, 64, 67, 0.15);\n",
              "      fill: #174EA6;\n",
              "    }\n",
              "\n",
              "    .colab-df-buttons div {\n",
              "      margin-bottom: 4px;\n",
              "    }\n",
              "\n",
              "    [theme=dark] .colab-df-convert {\n",
              "      background-color: #3B4455;\n",
              "      fill: #D2E3FC;\n",
              "    }\n",
              "\n",
              "    [theme=dark] .colab-df-convert:hover {\n",
              "      background-color: #434B5C;\n",
              "      box-shadow: 0px 1px 3px 1px rgba(0, 0, 0, 0.15);\n",
              "      filter: drop-shadow(0px 1px 2px rgba(0, 0, 0, 0.3));\n",
              "      fill: #FFFFFF;\n",
              "    }\n",
              "  </style>\n",
              "\n",
              "    <script>\n",
              "      const buttonEl =\n",
              "        document.querySelector('#df-a01b65f2-ef35-4e77-8d83-874fb570ca97 button.colab-df-convert');\n",
              "      buttonEl.style.display =\n",
              "        google.colab.kernel.accessAllowed ? 'block' : 'none';\n",
              "\n",
              "      async function convertToInteractive(key) {\n",
              "        const element = document.querySelector('#df-a01b65f2-ef35-4e77-8d83-874fb570ca97');\n",
              "        const dataTable =\n",
              "          await google.colab.kernel.invokeFunction('convertToInteractive',\n",
              "                                                    [key], {});\n",
              "        if (!dataTable) return;\n",
              "\n",
              "        const docLinkHtml = 'Like what you see? Visit the ' +\n",
              "          '<a target=\"_blank\" href=https://colab.research.google.com/notebooks/data_table.ipynb>data table notebook</a>'\n",
              "          + ' to learn more about interactive tables.';\n",
              "        element.innerHTML = '';\n",
              "        dataTable['output_type'] = 'display_data';\n",
              "        await google.colab.output.renderOutput(dataTable, element);\n",
              "        const docLink = document.createElement('div');\n",
              "        docLink.innerHTML = docLinkHtml;\n",
              "        element.appendChild(docLink);\n",
              "      }\n",
              "    </script>\n",
              "  </div>\n",
              "\n",
              "\n",
              "<div id=\"df-185303ea-023c-4ad9-8fd7-f54f0b1314f1\">\n",
              "  <button class=\"colab-df-quickchart\" onclick=\"quickchart('df-185303ea-023c-4ad9-8fd7-f54f0b1314f1')\"\n",
              "            title=\"Suggest charts\"\n",
              "            style=\"display:none;\">\n",
              "\n",
              "<svg xmlns=\"http://www.w3.org/2000/svg\" height=\"24px\"viewBox=\"0 0 24 24\"\n",
              "     width=\"24px\">\n",
              "    <g>\n",
              "        <path d=\"M19 3H5c-1.1 0-2 .9-2 2v14c0 1.1.9 2 2 2h14c1.1 0 2-.9 2-2V5c0-1.1-.9-2-2-2zM9 17H7v-7h2v7zm4 0h-2V7h2v10zm4 0h-2v-4h2v4z\"/>\n",
              "    </g>\n",
              "</svg>\n",
              "  </button>\n",
              "\n",
              "<style>\n",
              "  .colab-df-quickchart {\n",
              "      --bg-color: #E8F0FE;\n",
              "      --fill-color: #1967D2;\n",
              "      --hover-bg-color: #E2EBFA;\n",
              "      --hover-fill-color: #174EA6;\n",
              "      --disabled-fill-color: #AAA;\n",
              "      --disabled-bg-color: #DDD;\n",
              "  }\n",
              "\n",
              "  [theme=dark] .colab-df-quickchart {\n",
              "      --bg-color: #3B4455;\n",
              "      --fill-color: #D2E3FC;\n",
              "      --hover-bg-color: #434B5C;\n",
              "      --hover-fill-color: #FFFFFF;\n",
              "      --disabled-bg-color: #3B4455;\n",
              "      --disabled-fill-color: #666;\n",
              "  }\n",
              "\n",
              "  .colab-df-quickchart {\n",
              "    background-color: var(--bg-color);\n",
              "    border: none;\n",
              "    border-radius: 50%;\n",
              "    cursor: pointer;\n",
              "    display: none;\n",
              "    fill: var(--fill-color);\n",
              "    height: 32px;\n",
              "    padding: 0;\n",
              "    width: 32px;\n",
              "  }\n",
              "\n",
              "  .colab-df-quickchart:hover {\n",
              "    background-color: var(--hover-bg-color);\n",
              "    box-shadow: 0 1px 2px rgba(60, 64, 67, 0.3), 0 1px 3px 1px rgba(60, 64, 67, 0.15);\n",
              "    fill: var(--button-hover-fill-color);\n",
              "  }\n",
              "\n",
              "  .colab-df-quickchart-complete:disabled,\n",
              "  .colab-df-quickchart-complete:disabled:hover {\n",
              "    background-color: var(--disabled-bg-color);\n",
              "    fill: var(--disabled-fill-color);\n",
              "    box-shadow: none;\n",
              "  }\n",
              "\n",
              "  .colab-df-spinner {\n",
              "    border: 2px solid var(--fill-color);\n",
              "    border-color: transparent;\n",
              "    border-bottom-color: var(--fill-color);\n",
              "    animation:\n",
              "      spin 1s steps(1) infinite;\n",
              "  }\n",
              "\n",
              "  @keyframes spin {\n",
              "    0% {\n",
              "      border-color: transparent;\n",
              "      border-bottom-color: var(--fill-color);\n",
              "      border-left-color: var(--fill-color);\n",
              "    }\n",
              "    20% {\n",
              "      border-color: transparent;\n",
              "      border-left-color: var(--fill-color);\n",
              "      border-top-color: var(--fill-color);\n",
              "    }\n",
              "    30% {\n",
              "      border-color: transparent;\n",
              "      border-left-color: var(--fill-color);\n",
              "      border-top-color: var(--fill-color);\n",
              "      border-right-color: var(--fill-color);\n",
              "    }\n",
              "    40% {\n",
              "      border-color: transparent;\n",
              "      border-right-color: var(--fill-color);\n",
              "      border-top-color: var(--fill-color);\n",
              "    }\n",
              "    60% {\n",
              "      border-color: transparent;\n",
              "      border-right-color: var(--fill-color);\n",
              "    }\n",
              "    80% {\n",
              "      border-color: transparent;\n",
              "      border-right-color: var(--fill-color);\n",
              "      border-bottom-color: var(--fill-color);\n",
              "    }\n",
              "    90% {\n",
              "      border-color: transparent;\n",
              "      border-bottom-color: var(--fill-color);\n",
              "    }\n",
              "  }\n",
              "</style>\n",
              "\n",
              "  <script>\n",
              "    async function quickchart(key) {\n",
              "      const quickchartButtonEl =\n",
              "        document.querySelector('#' + key + ' button');\n",
              "      quickchartButtonEl.disabled = true;  // To prevent multiple clicks.\n",
              "      quickchartButtonEl.classList.add('colab-df-spinner');\n",
              "      try {\n",
              "        const charts = await google.colab.kernel.invokeFunction(\n",
              "            'suggestCharts', [key], {});\n",
              "      } catch (error) {\n",
              "        console.error('Error during call to suggestCharts:', error);\n",
              "      }\n",
              "      quickchartButtonEl.classList.remove('colab-df-spinner');\n",
              "      quickchartButtonEl.classList.add('colab-df-quickchart-complete');\n",
              "    }\n",
              "    (() => {\n",
              "      let quickchartButtonEl =\n",
              "        document.querySelector('#df-185303ea-023c-4ad9-8fd7-f54f0b1314f1 button');\n",
              "      quickchartButtonEl.style.display =\n",
              "        google.colab.kernel.accessAllowed ? 'block' : 'none';\n",
              "    })();\n",
              "  </script>\n",
              "</div>\n",
              "    </div>\n",
              "  </div>\n"
            ]
          },
          "metadata": {},
          "execution_count": 5
        }
      ]
    },
    {
      "cell_type": "code",
      "source": [
        "# Разделим данные на две группы: платные и органические\n",
        "paid_installs = source_comparison_df[source_comparison_df['source_type'] == 'Paid']\n",
        "organic_installs = source_comparison_df[source_comparison_df['source_type'] == 'Organic']\n",
        "\n",
        "# Агрегируем данные по Install_Dates, чтобы получить ежедневные итоги\n",
        "daily_paid_installs = paid_installs.groupby('Install_Dates')['installs'].sum()\n",
        "daily_organic_installs = organic_installs.groupby('Install_Dates')['installs'].sum()\n",
        "\n",
        "# Объедините два набора данных по Install_Dates\n",
        "merged_data = pd.merge(daily_paid_installs, daily_organic_installs, on='Install_Dates', how='inner', suffixes=('_paid', '_organic'))\n",
        "\n",
        "# Вычислим корреляцию\n",
        "correlation, p_value = pearsonr(merged_data['installs_paid'], merged_data['installs_organic'])\n",
        "\n",
        "# Выведем результаты\n",
        "correlation, p_value, merged_data.head()"
      ],
      "metadata": {
        "colab": {
          "base_uri": "https://localhost:8080/"
        },
        "id": "klrLvtlJPjJv",
        "outputId": "9d6ab564-c019-47d9-ab7e-291301689592"
      },
      "execution_count": 6,
      "outputs": [
        {
          "output_type": "execute_result",
          "data": {
            "text/plain": [
              "(0.22434074422603636,\n",
              " 0.08218628724204936,\n",
              "                installs_paid  installs_organic\n",
              " Install_Dates                                 \n",
              " 2020-03-18            7359.0            8961.0\n",
              " 2020-03-19            6739.0            8457.0\n",
              " 2020-03-20            7254.0            8819.0\n",
              " 2020-03-21            9552.0            4485.0\n",
              " 2020-03-22           14804.0            5105.0)"
            ]
          },
          "metadata": {},
          "execution_count": 6
        }
      ]
    },
    {
      "cell_type": "markdown",
      "source": [
        "**Вывод:**  \n",
        " Корреляционный анализ между ежедневными платными и обычными установками дал коэффициент корреляции 0,2243 при p-значении 0,0822. Вот как интерпретировать эти результаты:  \n",
        "\n",
        "1. Коэффициент корреляции (0.2243)- указывает на слабую положительную корреляцию между платными и обычными установками. Другими словами, существует небольшая тенденция, согласно которой по мере увеличения количества платных установок увеличиваются и обычные установки, но взаимосвязь не очень сильная.\n",
        "\n",
        "2. P-значение (0.0822): p-значение является мерой вероятности того, что наблюдаемая корреляция произошла случайно. В этом случае p-значение больше обычного альфа-уровня 0,05, что говорит о том, что корреляция не является статистически значимой."
      ],
      "metadata": {
        "id": "acIZB6Dpdewh"
      }
    },
    {
      "cell_type": "markdown",
      "source": [
        "**Исходная гипотеза:** Гипотеза маркетологов о том, что увеличение платного трафика приводит к увеличению органического трафика, лишь слабо подтверждается данными. Корреляция положительная, но недостаточно сильная, чтобы считаться статистически значимой.\n",
        "\n",
        "**Альтернативная гипотеза:** учитывая слабую корреляцию, возможно, что на органический трафик могут влиять другие факторы, такие как сезонность, популярность игр или другие маркетинговые мероприятия (например, социальные сети или маркетинг влияния). Эти факторы можно было бы изучить, чтобы лучше понять динамику обычного трафика."
      ],
      "metadata": {
        "id": "14h5i8hHepQY"
      }
    },
    {
      "cell_type": "markdown",
      "source": [
        "# **4. Эффективность рекламных кампаний**"
      ],
      "metadata": {
        "id": "sSxaHRCKeVCv"
      }
    },
    {
      "cell_type": "markdown",
      "source": [
        "**Описание задачи:**  \n",
        "Отдел маркетинга оперирует некоторым множеством рекламных кампаний.   \n",
        "Первая часть оперирования состоит из запуска тестовых рекламных кампаний, у которых есть требования по KPI при достижении которых тест считается успешным.  \n",
        "Успешные тесты переходят в разряд постоянных кампаний и вторая часть оперирования состоит из мониторинга постоянных кампаний - управление бюджетом кампании (COST) и мониторинг ее доходов (REVENUE), а так же соотношением доходов к расходам.  \n",
        "Главный KPI для постоянных рекламных кампаний - ROAS на 60й день, т.е. какой процент от расходов кампания возвращает на 60й день.  \n",
        "Для выполнения задачи необходимо использовать тестовый датасет (2 таблицы по расходам и доходам).  \n",
        "1.\tОтдел маркетинга руководствуется гипотезой - чем больший COST расходуется на кампанию тем ниже ROAS 60го дня (рост CPI при увеличении объёма закупки при сохранении того же LTV 60го дня). На основании данных подтвердите или опровергните эту гипотезу. Исходите из того что мы точно знаем что CPI зависит от объема нелинейно, вопрос в том как эту зависимость описать и учесть во 2м вопросе.\n",
        "2.\tПо каждой рекламной кампании рассчитайте суточный рекламный бюджет который максимизирует абсолютную маркетинговую прибыль рекламной кампании (REVENUE 60 дня минус COST).\n",
        "3.\tИсходя из пункта 2 по каждой рекламной кампании дайте ваше заключение о том насколько нужно увеличить / уменьшить ее суточный бюджет либо вообще остановить.\n",
        "4.\tРешите проблему рекламных кампаний по которым еще нет полных 60 дней. Объясните почему ваше решение оптимально\n"
      ],
      "metadata": {
        "id": "ma5CDox3eU5Y"
      }
    },
    {
      "cell_type": "markdown",
      "source": [
        "### 4.1 Осмотр и изучение данных"
      ],
      "metadata": {
        "id": "QyzSOvqOOrFF"
      }
    },
    {
      "cell_type": "code",
      "source": [
        "# Подключимся к базе данных SQLite\n",
        "conn = sqlite3.connect('/content/gdrive/MyDrive/УИИ/Skytec_Games/testcase.db')\n",
        "# Прочитаем данные из таблицы Расходы\n",
        "costs_df = pd.read_sql_query(\"SELECT * FROM costs\", conn)\n",
        "# Закроем соединение\n",
        "conn.close()\n",
        "\n",
        "# Выводим первых нескольких строк датафрейма\n",
        "costs_df.head()"
      ],
      "metadata": {
        "colab": {
          "base_uri": "https://localhost:8080/",
          "height": 206
        },
        "id": "iMHaZ9cSx3Oz",
        "outputId": "e96eba45-8728-403a-da4c-7895f37b0260"
      },
      "execution_count": 7,
      "outputs": [
        {
          "output_type": "execute_result",
          "data": {
            "text/plain": [
              "  Install_Dates  campaign_id Country  installs  spends\n",
              "0    2020-04-14        90570      CZ      35.0   19.79\n",
              "1    2020-04-28        90619      AT       5.0    4.99\n",
              "2    2020-05-10       794235      PK      79.0    0.40\n",
              "3    2020-05-07        91872      FR      12.0    9.56\n",
              "4    2020-04-03        19115      JP       6.0    3.39"
            ],
            "text/html": [
              "\n",
              "  <div id=\"df-55aa4a38-ceda-4422-b9e7-84737431b390\" class=\"colab-df-container\">\n",
              "    <div>\n",
              "<style scoped>\n",
              "    .dataframe tbody tr th:only-of-type {\n",
              "        vertical-align: middle;\n",
              "    }\n",
              "\n",
              "    .dataframe tbody tr th {\n",
              "        vertical-align: top;\n",
              "    }\n",
              "\n",
              "    .dataframe thead th {\n",
              "        text-align: right;\n",
              "    }\n",
              "</style>\n",
              "<table border=\"1\" class=\"dataframe\">\n",
              "  <thead>\n",
              "    <tr style=\"text-align: right;\">\n",
              "      <th></th>\n",
              "      <th>Install_Dates</th>\n",
              "      <th>campaign_id</th>\n",
              "      <th>Country</th>\n",
              "      <th>installs</th>\n",
              "      <th>spends</th>\n",
              "    </tr>\n",
              "  </thead>\n",
              "  <tbody>\n",
              "    <tr>\n",
              "      <th>0</th>\n",
              "      <td>2020-04-14</td>\n",
              "      <td>90570</td>\n",
              "      <td>CZ</td>\n",
              "      <td>35.0</td>\n",
              "      <td>19.79</td>\n",
              "    </tr>\n",
              "    <tr>\n",
              "      <th>1</th>\n",
              "      <td>2020-04-28</td>\n",
              "      <td>90619</td>\n",
              "      <td>AT</td>\n",
              "      <td>5.0</td>\n",
              "      <td>4.99</td>\n",
              "    </tr>\n",
              "    <tr>\n",
              "      <th>2</th>\n",
              "      <td>2020-05-10</td>\n",
              "      <td>794235</td>\n",
              "      <td>PK</td>\n",
              "      <td>79.0</td>\n",
              "      <td>0.40</td>\n",
              "    </tr>\n",
              "    <tr>\n",
              "      <th>3</th>\n",
              "      <td>2020-05-07</td>\n",
              "      <td>91872</td>\n",
              "      <td>FR</td>\n",
              "      <td>12.0</td>\n",
              "      <td>9.56</td>\n",
              "    </tr>\n",
              "    <tr>\n",
              "      <th>4</th>\n",
              "      <td>2020-04-03</td>\n",
              "      <td>19115</td>\n",
              "      <td>JP</td>\n",
              "      <td>6.0</td>\n",
              "      <td>3.39</td>\n",
              "    </tr>\n",
              "  </tbody>\n",
              "</table>\n",
              "</div>\n",
              "    <div class=\"colab-df-buttons\">\n",
              "\n",
              "  <div class=\"colab-df-container\">\n",
              "    <button class=\"colab-df-convert\" onclick=\"convertToInteractive('df-55aa4a38-ceda-4422-b9e7-84737431b390')\"\n",
              "            title=\"Convert this dataframe to an interactive table.\"\n",
              "            style=\"display:none;\">\n",
              "\n",
              "  <svg xmlns=\"http://www.w3.org/2000/svg\" height=\"24px\" viewBox=\"0 -960 960 960\">\n",
              "    <path d=\"M120-120v-720h720v720H120Zm60-500h600v-160H180v160Zm220 220h160v-160H400v160Zm0 220h160v-160H400v160ZM180-400h160v-160H180v160Zm440 0h160v-160H620v160ZM180-180h160v-160H180v160Zm440 0h160v-160H620v160Z\"/>\n",
              "  </svg>\n",
              "    </button>\n",
              "\n",
              "  <style>\n",
              "    .colab-df-container {\n",
              "      display:flex;\n",
              "      gap: 12px;\n",
              "    }\n",
              "\n",
              "    .colab-df-convert {\n",
              "      background-color: #E8F0FE;\n",
              "      border: none;\n",
              "      border-radius: 50%;\n",
              "      cursor: pointer;\n",
              "      display: none;\n",
              "      fill: #1967D2;\n",
              "      height: 32px;\n",
              "      padding: 0 0 0 0;\n",
              "      width: 32px;\n",
              "    }\n",
              "\n",
              "    .colab-df-convert:hover {\n",
              "      background-color: #E2EBFA;\n",
              "      box-shadow: 0px 1px 2px rgba(60, 64, 67, 0.3), 0px 1px 3px 1px rgba(60, 64, 67, 0.15);\n",
              "      fill: #174EA6;\n",
              "    }\n",
              "\n",
              "    .colab-df-buttons div {\n",
              "      margin-bottom: 4px;\n",
              "    }\n",
              "\n",
              "    [theme=dark] .colab-df-convert {\n",
              "      background-color: #3B4455;\n",
              "      fill: #D2E3FC;\n",
              "    }\n",
              "\n",
              "    [theme=dark] .colab-df-convert:hover {\n",
              "      background-color: #434B5C;\n",
              "      box-shadow: 0px 1px 3px 1px rgba(0, 0, 0, 0.15);\n",
              "      filter: drop-shadow(0px 1px 2px rgba(0, 0, 0, 0.3));\n",
              "      fill: #FFFFFF;\n",
              "    }\n",
              "  </style>\n",
              "\n",
              "    <script>\n",
              "      const buttonEl =\n",
              "        document.querySelector('#df-55aa4a38-ceda-4422-b9e7-84737431b390 button.colab-df-convert');\n",
              "      buttonEl.style.display =\n",
              "        google.colab.kernel.accessAllowed ? 'block' : 'none';\n",
              "\n",
              "      async function convertToInteractive(key) {\n",
              "        const element = document.querySelector('#df-55aa4a38-ceda-4422-b9e7-84737431b390');\n",
              "        const dataTable =\n",
              "          await google.colab.kernel.invokeFunction('convertToInteractive',\n",
              "                                                    [key], {});\n",
              "        if (!dataTable) return;\n",
              "\n",
              "        const docLinkHtml = 'Like what you see? Visit the ' +\n",
              "          '<a target=\"_blank\" href=https://colab.research.google.com/notebooks/data_table.ipynb>data table notebook</a>'\n",
              "          + ' to learn more about interactive tables.';\n",
              "        element.innerHTML = '';\n",
              "        dataTable['output_type'] = 'display_data';\n",
              "        await google.colab.output.renderOutput(dataTable, element);\n",
              "        const docLink = document.createElement('div');\n",
              "        docLink.innerHTML = docLinkHtml;\n",
              "        element.appendChild(docLink);\n",
              "      }\n",
              "    </script>\n",
              "  </div>\n",
              "\n",
              "\n",
              "<div id=\"df-7fa4666b-de5a-4a43-8647-e29757548789\">\n",
              "  <button class=\"colab-df-quickchart\" onclick=\"quickchart('df-7fa4666b-de5a-4a43-8647-e29757548789')\"\n",
              "            title=\"Suggest charts\"\n",
              "            style=\"display:none;\">\n",
              "\n",
              "<svg xmlns=\"http://www.w3.org/2000/svg\" height=\"24px\"viewBox=\"0 0 24 24\"\n",
              "     width=\"24px\">\n",
              "    <g>\n",
              "        <path d=\"M19 3H5c-1.1 0-2 .9-2 2v14c0 1.1.9 2 2 2h14c1.1 0 2-.9 2-2V5c0-1.1-.9-2-2-2zM9 17H7v-7h2v7zm4 0h-2V7h2v10zm4 0h-2v-4h2v4z\"/>\n",
              "    </g>\n",
              "</svg>\n",
              "  </button>\n",
              "\n",
              "<style>\n",
              "  .colab-df-quickchart {\n",
              "      --bg-color: #E8F0FE;\n",
              "      --fill-color: #1967D2;\n",
              "      --hover-bg-color: #E2EBFA;\n",
              "      --hover-fill-color: #174EA6;\n",
              "      --disabled-fill-color: #AAA;\n",
              "      --disabled-bg-color: #DDD;\n",
              "  }\n",
              "\n",
              "  [theme=dark] .colab-df-quickchart {\n",
              "      --bg-color: #3B4455;\n",
              "      --fill-color: #D2E3FC;\n",
              "      --hover-bg-color: #434B5C;\n",
              "      --hover-fill-color: #FFFFFF;\n",
              "      --disabled-bg-color: #3B4455;\n",
              "      --disabled-fill-color: #666;\n",
              "  }\n",
              "\n",
              "  .colab-df-quickchart {\n",
              "    background-color: var(--bg-color);\n",
              "    border: none;\n",
              "    border-radius: 50%;\n",
              "    cursor: pointer;\n",
              "    display: none;\n",
              "    fill: var(--fill-color);\n",
              "    height: 32px;\n",
              "    padding: 0;\n",
              "    width: 32px;\n",
              "  }\n",
              "\n",
              "  .colab-df-quickchart:hover {\n",
              "    background-color: var(--hover-bg-color);\n",
              "    box-shadow: 0 1px 2px rgba(60, 64, 67, 0.3), 0 1px 3px 1px rgba(60, 64, 67, 0.15);\n",
              "    fill: var(--button-hover-fill-color);\n",
              "  }\n",
              "\n",
              "  .colab-df-quickchart-complete:disabled,\n",
              "  .colab-df-quickchart-complete:disabled:hover {\n",
              "    background-color: var(--disabled-bg-color);\n",
              "    fill: var(--disabled-fill-color);\n",
              "    box-shadow: none;\n",
              "  }\n",
              "\n",
              "  .colab-df-spinner {\n",
              "    border: 2px solid var(--fill-color);\n",
              "    border-color: transparent;\n",
              "    border-bottom-color: var(--fill-color);\n",
              "    animation:\n",
              "      spin 1s steps(1) infinite;\n",
              "  }\n",
              "\n",
              "  @keyframes spin {\n",
              "    0% {\n",
              "      border-color: transparent;\n",
              "      border-bottom-color: var(--fill-color);\n",
              "      border-left-color: var(--fill-color);\n",
              "    }\n",
              "    20% {\n",
              "      border-color: transparent;\n",
              "      border-left-color: var(--fill-color);\n",
              "      border-top-color: var(--fill-color);\n",
              "    }\n",
              "    30% {\n",
              "      border-color: transparent;\n",
              "      border-left-color: var(--fill-color);\n",
              "      border-top-color: var(--fill-color);\n",
              "      border-right-color: var(--fill-color);\n",
              "    }\n",
              "    40% {\n",
              "      border-color: transparent;\n",
              "      border-right-color: var(--fill-color);\n",
              "      border-top-color: var(--fill-color);\n",
              "    }\n",
              "    60% {\n",
              "      border-color: transparent;\n",
              "      border-right-color: var(--fill-color);\n",
              "    }\n",
              "    80% {\n",
              "      border-color: transparent;\n",
              "      border-right-color: var(--fill-color);\n",
              "      border-bottom-color: var(--fill-color);\n",
              "    }\n",
              "    90% {\n",
              "      border-color: transparent;\n",
              "      border-bottom-color: var(--fill-color);\n",
              "    }\n",
              "  }\n",
              "</style>\n",
              "\n",
              "  <script>\n",
              "    async function quickchart(key) {\n",
              "      const quickchartButtonEl =\n",
              "        document.querySelector('#' + key + ' button');\n",
              "      quickchartButtonEl.disabled = true;  // To prevent multiple clicks.\n",
              "      quickchartButtonEl.classList.add('colab-df-spinner');\n",
              "      try {\n",
              "        const charts = await google.colab.kernel.invokeFunction(\n",
              "            'suggestCharts', [key], {});\n",
              "      } catch (error) {\n",
              "        console.error('Error during call to suggestCharts:', error);\n",
              "      }\n",
              "      quickchartButtonEl.classList.remove('colab-df-spinner');\n",
              "      quickchartButtonEl.classList.add('colab-df-quickchart-complete');\n",
              "    }\n",
              "    (() => {\n",
              "      let quickchartButtonEl =\n",
              "        document.querySelector('#df-7fa4666b-de5a-4a43-8647-e29757548789 button');\n",
              "      quickchartButtonEl.style.display =\n",
              "        google.colab.kernel.accessAllowed ? 'block' : 'none';\n",
              "    })();\n",
              "  </script>\n",
              "</div>\n",
              "    </div>\n",
              "  </div>\n"
            ]
          },
          "metadata": {},
          "execution_count": 7
        }
      ]
    },
    {
      "cell_type": "code",
      "source": [
        "# Подключимся к базе данных SQLite\n",
        "conn = sqlite3.connect('/content/gdrive/MyDrive/УИИ/Skytec_Games/testcase.db')\n",
        "# Прочитаем данные из таблицы  Доходы\n",
        "revenue_df = pd.read_sql_query(\"SELECT * FROM revenue\", conn)\n",
        "# Закроем соединение\n",
        "conn.close()\n",
        "\n",
        "# Выводим первых нескольких строк датафрейма\n",
        "revenue_df.head()"
      ],
      "metadata": {
        "colab": {
          "base_uri": "https://localhost:8080/",
          "height": 206
        },
        "id": "ebpWEuuEyxjz",
        "outputId": "552d9c18-aeb2-44c0-b033-22b1c04a2ec7"
      },
      "execution_count": 8,
      "outputs": [
        {
          "output_type": "execute_result",
          "data": {
            "text/plain": [
              "  Install_Dates  campaign_id Country     1d_LTV     3d_LTV     7d_LTV  \\\n",
              "0    2020-04-14        90570      CZ   7.721194   8.104811  10.209480   \n",
              "1    2020-03-30        90262      CA   1.424363   1.724738   1.724738   \n",
              "2    2020-04-02        19115      PL  26.912006  32.943050  66.787497   \n",
              "3    2020-04-15       788948      MD   0.000000   0.000000   0.000000   \n",
              "4    2020-03-26       158583      DE   0.349793   0.349793   0.349793   \n",
              "\n",
              "     14d_LTV    30d_LTV    60d_LTV  \n",
              "0  11.845200  15.349594  15.768420  \n",
              "1   1.724738   1.724738   1.999413  \n",
              "2  70.071922  71.644023  72.057026  \n",
              "3   0.000000   0.000000   0.000000  \n",
              "4   0.349793   0.349793   0.349793  "
            ],
            "text/html": [
              "\n",
              "  <div id=\"df-6632e6a3-585c-454c-864a-1fb8949b41e8\" class=\"colab-df-container\">\n",
              "    <div>\n",
              "<style scoped>\n",
              "    .dataframe tbody tr th:only-of-type {\n",
              "        vertical-align: middle;\n",
              "    }\n",
              "\n",
              "    .dataframe tbody tr th {\n",
              "        vertical-align: top;\n",
              "    }\n",
              "\n",
              "    .dataframe thead th {\n",
              "        text-align: right;\n",
              "    }\n",
              "</style>\n",
              "<table border=\"1\" class=\"dataframe\">\n",
              "  <thead>\n",
              "    <tr style=\"text-align: right;\">\n",
              "      <th></th>\n",
              "      <th>Install_Dates</th>\n",
              "      <th>campaign_id</th>\n",
              "      <th>Country</th>\n",
              "      <th>1d_LTV</th>\n",
              "      <th>3d_LTV</th>\n",
              "      <th>7d_LTV</th>\n",
              "      <th>14d_LTV</th>\n",
              "      <th>30d_LTV</th>\n",
              "      <th>60d_LTV</th>\n",
              "    </tr>\n",
              "  </thead>\n",
              "  <tbody>\n",
              "    <tr>\n",
              "      <th>0</th>\n",
              "      <td>2020-04-14</td>\n",
              "      <td>90570</td>\n",
              "      <td>CZ</td>\n",
              "      <td>7.721194</td>\n",
              "      <td>8.104811</td>\n",
              "      <td>10.209480</td>\n",
              "      <td>11.845200</td>\n",
              "      <td>15.349594</td>\n",
              "      <td>15.768420</td>\n",
              "    </tr>\n",
              "    <tr>\n",
              "      <th>1</th>\n",
              "      <td>2020-03-30</td>\n",
              "      <td>90262</td>\n",
              "      <td>CA</td>\n",
              "      <td>1.424363</td>\n",
              "      <td>1.724738</td>\n",
              "      <td>1.724738</td>\n",
              "      <td>1.724738</td>\n",
              "      <td>1.724738</td>\n",
              "      <td>1.999413</td>\n",
              "    </tr>\n",
              "    <tr>\n",
              "      <th>2</th>\n",
              "      <td>2020-04-02</td>\n",
              "      <td>19115</td>\n",
              "      <td>PL</td>\n",
              "      <td>26.912006</td>\n",
              "      <td>32.943050</td>\n",
              "      <td>66.787497</td>\n",
              "      <td>70.071922</td>\n",
              "      <td>71.644023</td>\n",
              "      <td>72.057026</td>\n",
              "    </tr>\n",
              "    <tr>\n",
              "      <th>3</th>\n",
              "      <td>2020-04-15</td>\n",
              "      <td>788948</td>\n",
              "      <td>MD</td>\n",
              "      <td>0.000000</td>\n",
              "      <td>0.000000</td>\n",
              "      <td>0.000000</td>\n",
              "      <td>0.000000</td>\n",
              "      <td>0.000000</td>\n",
              "      <td>0.000000</td>\n",
              "    </tr>\n",
              "    <tr>\n",
              "      <th>4</th>\n",
              "      <td>2020-03-26</td>\n",
              "      <td>158583</td>\n",
              "      <td>DE</td>\n",
              "      <td>0.349793</td>\n",
              "      <td>0.349793</td>\n",
              "      <td>0.349793</td>\n",
              "      <td>0.349793</td>\n",
              "      <td>0.349793</td>\n",
              "      <td>0.349793</td>\n",
              "    </tr>\n",
              "  </tbody>\n",
              "</table>\n",
              "</div>\n",
              "    <div class=\"colab-df-buttons\">\n",
              "\n",
              "  <div class=\"colab-df-container\">\n",
              "    <button class=\"colab-df-convert\" onclick=\"convertToInteractive('df-6632e6a3-585c-454c-864a-1fb8949b41e8')\"\n",
              "            title=\"Convert this dataframe to an interactive table.\"\n",
              "            style=\"display:none;\">\n",
              "\n",
              "  <svg xmlns=\"http://www.w3.org/2000/svg\" height=\"24px\" viewBox=\"0 -960 960 960\">\n",
              "    <path d=\"M120-120v-720h720v720H120Zm60-500h600v-160H180v160Zm220 220h160v-160H400v160Zm0 220h160v-160H400v160ZM180-400h160v-160H180v160Zm440 0h160v-160H620v160ZM180-180h160v-160H180v160Zm440 0h160v-160H620v160Z\"/>\n",
              "  </svg>\n",
              "    </button>\n",
              "\n",
              "  <style>\n",
              "    .colab-df-container {\n",
              "      display:flex;\n",
              "      gap: 12px;\n",
              "    }\n",
              "\n",
              "    .colab-df-convert {\n",
              "      background-color: #E8F0FE;\n",
              "      border: none;\n",
              "      border-radius: 50%;\n",
              "      cursor: pointer;\n",
              "      display: none;\n",
              "      fill: #1967D2;\n",
              "      height: 32px;\n",
              "      padding: 0 0 0 0;\n",
              "      width: 32px;\n",
              "    }\n",
              "\n",
              "    .colab-df-convert:hover {\n",
              "      background-color: #E2EBFA;\n",
              "      box-shadow: 0px 1px 2px rgba(60, 64, 67, 0.3), 0px 1px 3px 1px rgba(60, 64, 67, 0.15);\n",
              "      fill: #174EA6;\n",
              "    }\n",
              "\n",
              "    .colab-df-buttons div {\n",
              "      margin-bottom: 4px;\n",
              "    }\n",
              "\n",
              "    [theme=dark] .colab-df-convert {\n",
              "      background-color: #3B4455;\n",
              "      fill: #D2E3FC;\n",
              "    }\n",
              "\n",
              "    [theme=dark] .colab-df-convert:hover {\n",
              "      background-color: #434B5C;\n",
              "      box-shadow: 0px 1px 3px 1px rgba(0, 0, 0, 0.15);\n",
              "      filter: drop-shadow(0px 1px 2px rgba(0, 0, 0, 0.3));\n",
              "      fill: #FFFFFF;\n",
              "    }\n",
              "  </style>\n",
              "\n",
              "    <script>\n",
              "      const buttonEl =\n",
              "        document.querySelector('#df-6632e6a3-585c-454c-864a-1fb8949b41e8 button.colab-df-convert');\n",
              "      buttonEl.style.display =\n",
              "        google.colab.kernel.accessAllowed ? 'block' : 'none';\n",
              "\n",
              "      async function convertToInteractive(key) {\n",
              "        const element = document.querySelector('#df-6632e6a3-585c-454c-864a-1fb8949b41e8');\n",
              "        const dataTable =\n",
              "          await google.colab.kernel.invokeFunction('convertToInteractive',\n",
              "                                                    [key], {});\n",
              "        if (!dataTable) return;\n",
              "\n",
              "        const docLinkHtml = 'Like what you see? Visit the ' +\n",
              "          '<a target=\"_blank\" href=https://colab.research.google.com/notebooks/data_table.ipynb>data table notebook</a>'\n",
              "          + ' to learn more about interactive tables.';\n",
              "        element.innerHTML = '';\n",
              "        dataTable['output_type'] = 'display_data';\n",
              "        await google.colab.output.renderOutput(dataTable, element);\n",
              "        const docLink = document.createElement('div');\n",
              "        docLink.innerHTML = docLinkHtml;\n",
              "        element.appendChild(docLink);\n",
              "      }\n",
              "    </script>\n",
              "  </div>\n",
              "\n",
              "\n",
              "<div id=\"df-cb5a0850-1e7a-4268-a4f0-2274021fd06d\">\n",
              "  <button class=\"colab-df-quickchart\" onclick=\"quickchart('df-cb5a0850-1e7a-4268-a4f0-2274021fd06d')\"\n",
              "            title=\"Suggest charts\"\n",
              "            style=\"display:none;\">\n",
              "\n",
              "<svg xmlns=\"http://www.w3.org/2000/svg\" height=\"24px\"viewBox=\"0 0 24 24\"\n",
              "     width=\"24px\">\n",
              "    <g>\n",
              "        <path d=\"M19 3H5c-1.1 0-2 .9-2 2v14c0 1.1.9 2 2 2h14c1.1 0 2-.9 2-2V5c0-1.1-.9-2-2-2zM9 17H7v-7h2v7zm4 0h-2V7h2v10zm4 0h-2v-4h2v4z\"/>\n",
              "    </g>\n",
              "</svg>\n",
              "  </button>\n",
              "\n",
              "<style>\n",
              "  .colab-df-quickchart {\n",
              "      --bg-color: #E8F0FE;\n",
              "      --fill-color: #1967D2;\n",
              "      --hover-bg-color: #E2EBFA;\n",
              "      --hover-fill-color: #174EA6;\n",
              "      --disabled-fill-color: #AAA;\n",
              "      --disabled-bg-color: #DDD;\n",
              "  }\n",
              "\n",
              "  [theme=dark] .colab-df-quickchart {\n",
              "      --bg-color: #3B4455;\n",
              "      --fill-color: #D2E3FC;\n",
              "      --hover-bg-color: #434B5C;\n",
              "      --hover-fill-color: #FFFFFF;\n",
              "      --disabled-bg-color: #3B4455;\n",
              "      --disabled-fill-color: #666;\n",
              "  }\n",
              "\n",
              "  .colab-df-quickchart {\n",
              "    background-color: var(--bg-color);\n",
              "    border: none;\n",
              "    border-radius: 50%;\n",
              "    cursor: pointer;\n",
              "    display: none;\n",
              "    fill: var(--fill-color);\n",
              "    height: 32px;\n",
              "    padding: 0;\n",
              "    width: 32px;\n",
              "  }\n",
              "\n",
              "  .colab-df-quickchart:hover {\n",
              "    background-color: var(--hover-bg-color);\n",
              "    box-shadow: 0 1px 2px rgba(60, 64, 67, 0.3), 0 1px 3px 1px rgba(60, 64, 67, 0.15);\n",
              "    fill: var(--button-hover-fill-color);\n",
              "  }\n",
              "\n",
              "  .colab-df-quickchart-complete:disabled,\n",
              "  .colab-df-quickchart-complete:disabled:hover {\n",
              "    background-color: var(--disabled-bg-color);\n",
              "    fill: var(--disabled-fill-color);\n",
              "    box-shadow: none;\n",
              "  }\n",
              "\n",
              "  .colab-df-spinner {\n",
              "    border: 2px solid var(--fill-color);\n",
              "    border-color: transparent;\n",
              "    border-bottom-color: var(--fill-color);\n",
              "    animation:\n",
              "      spin 1s steps(1) infinite;\n",
              "  }\n",
              "\n",
              "  @keyframes spin {\n",
              "    0% {\n",
              "      border-color: transparent;\n",
              "      border-bottom-color: var(--fill-color);\n",
              "      border-left-color: var(--fill-color);\n",
              "    }\n",
              "    20% {\n",
              "      border-color: transparent;\n",
              "      border-left-color: var(--fill-color);\n",
              "      border-top-color: var(--fill-color);\n",
              "    }\n",
              "    30% {\n",
              "      border-color: transparent;\n",
              "      border-left-color: var(--fill-color);\n",
              "      border-top-color: var(--fill-color);\n",
              "      border-right-color: var(--fill-color);\n",
              "    }\n",
              "    40% {\n",
              "      border-color: transparent;\n",
              "      border-right-color: var(--fill-color);\n",
              "      border-top-color: var(--fill-color);\n",
              "    }\n",
              "    60% {\n",
              "      border-color: transparent;\n",
              "      border-right-color: var(--fill-color);\n",
              "    }\n",
              "    80% {\n",
              "      border-color: transparent;\n",
              "      border-right-color: var(--fill-color);\n",
              "      border-bottom-color: var(--fill-color);\n",
              "    }\n",
              "    90% {\n",
              "      border-color: transparent;\n",
              "      border-bottom-color: var(--fill-color);\n",
              "    }\n",
              "  }\n",
              "</style>\n",
              "\n",
              "  <script>\n",
              "    async function quickchart(key) {\n",
              "      const quickchartButtonEl =\n",
              "        document.querySelector('#' + key + ' button');\n",
              "      quickchartButtonEl.disabled = true;  // To prevent multiple clicks.\n",
              "      quickchartButtonEl.classList.add('colab-df-spinner');\n",
              "      try {\n",
              "        const charts = await google.colab.kernel.invokeFunction(\n",
              "            'suggestCharts', [key], {});\n",
              "      } catch (error) {\n",
              "        console.error('Error during call to suggestCharts:', error);\n",
              "      }\n",
              "      quickchartButtonEl.classList.remove('colab-df-spinner');\n",
              "      quickchartButtonEl.classList.add('colab-df-quickchart-complete');\n",
              "    }\n",
              "    (() => {\n",
              "      let quickchartButtonEl =\n",
              "        document.querySelector('#df-cb5a0850-1e7a-4268-a4f0-2274021fd06d button');\n",
              "      quickchartButtonEl.style.display =\n",
              "        google.colab.kernel.accessAllowed ? 'block' : 'none';\n",
              "    })();\n",
              "  </script>\n",
              "</div>\n",
              "    </div>\n",
              "  </div>\n"
            ]
          },
          "metadata": {},
          "execution_count": 8
        }
      ]
    },
    {
      "cell_type": "markdown",
      "source": [
        "Датафрейм `costs_df` содержит данные о расходах:\n",
        "\n",
        "**Install_Dates:** дата установки.  \n",
        "**Campaign_id:** идентификатор кампании.  \n",
        "**Country:** страна, в которой произошла установка.  \n",
        "**installs:** количество установок.  \n",
        "**spends:** сумма, потраченная на кампанию.  \n",
        "\n",
        "Датафрейм `revenue_df` данные о доходах:\n",
        "\n",
        "**Install_Dates:** дата установки.  \n",
        "**Campaign_id:** идентификатор кампании.  \n",
        "**Country:** страна, в которой произошла установка.  \n",
        "**1d_LTV - 60d_LTV:** эти столбцы представляют LTV в разные промежутки времени (1 день, 3 дня, 7 дней, 14 дней, 30 дней и 60 дней).  "
      ],
      "metadata": {
        "id": "irtumbgUNIDG"
      }
    },
    {
      "cell_type": "markdown",
      "source": [
        "### 4.2 Решение"
      ],
      "metadata": {
        "id": "KAk_mxK0Qe81"
      }
    },
    {
      "cell_type": "markdown",
      "source": [
        "#### 4.2.1 Проверка гипотезы о зависимости ROAS от COST"
      ],
      "metadata": {
        "id": "X_4mujEKQmct"
      }
    },
    {
      "cell_type": "code",
      "source": [
        "# Объединение данных\n",
        "merged_df = pd.merge(costs_df, revenue_df, on=['campaign_id', 'Install_Dates', 'Country'])\n",
        "\n",
        "# Расчет CPI и ROAS на 60-й день\n",
        "merged_df['CPI'] = merged_df['spends'] / merged_df['installs']\n",
        "merged_df['ROAS_60d'] = merged_df['60d_LTV'] / merged_df['spends']\n",
        "\n",
        "# Фильтрация для удаления отрицательных значений ROAS и CPI\n",
        "filtered_df = merged_df[(merged_df['ROAS_60d'] > 0) & (merged_df['CPI'] > 0)]\n",
        "\n",
        "# Визуализация отношения между CPI и 60-дневным ROAS\n",
        "plt.figure(figsize=(10,6))\n",
        "plt.scatter(filtered_df['CPI'], filtered_df['ROAS_60d'], alpha=0.5)\n",
        "plt.title('CPI vs ROAS 60-day')\n",
        "plt.xlabel('CPI (Cost Per Install)')\n",
        "plt.ylabel('ROAS 60-day')\n",
        "plt.grid(True)\n",
        "plt.show()\n",
        "\n",
        "# Расчет корреляции Спирмена\n",
        "spearman_corr, _ = spearmanr(filtered_df['CPI'], filtered_df['ROAS_60d'])\n",
        "print(\"Spearman Correlation:\", spearman_corr)\n"
      ],
      "metadata": {
        "colab": {
          "base_uri": "https://localhost:8080/",
          "height": 581
        },
        "id": "VHxnQSDvQaX-",
        "outputId": "5d437284-9031-4121-ba98-79c95597ec83"
      },
      "execution_count": 9,
      "outputs": [
        {
          "output_type": "display_data",
          "data": {
            "text/plain": [
              "<Figure size 1000x600 with 1 Axes>"
            ],
            "image/png": "[encoded data removed]"
          },
          "metadata": {}
        },
        {
          "output_type": "stream",
          "name": "stdout",
          "text": [
            "Spearman Correlation: -0.16713703515325526\n"
          ]
        }
      ]
    },
    {
      "cell_type": "markdown",
      "source": [
        "**Вывод:**  \n",
        " Анализ данных показал легкую отрицательную корреляцию между CPI (Cost Per Install) и ROAS на 60-й день.\n",
        " Это подтверждает предположение, что с увеличением затрат на кампанию, ROAS на 60-й день имеет тенденцию к снижению. Это указывает на нелинейную зависимость между затратами и доходностью.    \n",
        " Простыми словами -когда мы тратим больше на рекламу, это не всегда означает, что мы зарабатываем больше. Так что нужно вместе подумать о том, как умно распределять бюджет, чтобы каждая вложенная копейка работала на нас!"
      ],
      "metadata": {
        "id": "fSUhXHH3SlXG"
      }
    },
    {
      "cell_type": "markdown",
      "source": [
        "#### 4.2.2 Расчет оптимального суточного рекламного бюджета"
      ],
      "metadata": {
        "id": "Efy8ZHFtTK1d"
      }
    },
    {
      "cell_type": "markdown",
      "source": [
        "Сначала определим текущую дату, используя datetime.now(). Это необходимо для расчета количества дней, прошедших с момента запуска каждой рекламной кампании. Для этого мы вычитаем дату установки `Install_Dates` из текущей даты. Результатом этой операции является новый столбец `days_since_install`, который показывает, сколько дней прошло с момента запуска каждой кампании:"
      ],
      "metadata": {
        "id": "9JthMqUlVhCF"
      }
    },
    {
      "cell_type": "code",
      "source": [
        "# Текущая дата для расчета дней с момента установки\n",
        "current_date = datetime.now()  # или можно указать конкретную дату\n",
        "merged_df['days_since_install'] = (current_date - pd.to_datetime(merged_df['Install_Dates'])).dt.days\n"
      ],
      "metadata": {
        "id": "kt88kVB9TGDD"
      },
      "execution_count": 10,
      "outputs": []
    },
    {
      "cell_type": "markdown",
      "source": [
        "Рассчитаем абсолютную маркетинговую прибыль (AMP) для каждой кампании на основе 60-дневной ценности жизненного цикла клиента (LTV). Это делается путем вычитания общих затрат (spends) из 60-дневного LTV (60d_LTV). Этот расчет дает понимание того, насколько прибыльной или убыточной является каждая кампания за данный период:"
      ],
      "metadata": {
        "id": "x_J-zZftVy4l"
      }
    },
    {
      "cell_type": "code",
      "source": [
        "# Расчет абсолютной маркетинговой прибыли (AMP) для 60-дневного LTV\n",
        "merged_df['AMP_60d'] = merged_df['60d_LTV'] - merged_df['spends']"
      ],
      "metadata": {
        "id": "k9Eg-Wg8VYXd"
      },
      "execution_count": 11,
      "outputs": []
    },
    {
      "cell_type": "markdown",
      "source": [
        "Наконец, мы определим оптимальный бюджет для каждой рекламной кампании. Мы сгруппируем данные по `campaign_id` и выбирем для каждой кампании ту запись, которая показывает максимальную абсолютную маркетинговую прибыль (AMP). Результатом этой операции будет таблица `optimal_budget`, которая содержит информацию о затратах, AMP и количестве дней с момента запуска для каждой кампании. Это позволяет понять, какой бюджет был бы оптимальным для каждой кампании, исходя из ее текущих результатов:"
      ],
      "metadata": {
        "id": "3rl14dARWPMs"
      }
    },
    {
      "cell_type": "code",
      "source": [
        "# Нахождение оптимального бюджета для каждой кампании\n",
        "optimal_budget = merged_df.groupby('campaign_id').apply(lambda x: x.loc[x['AMP_60d'].idxmax(), ['spends', 'AMP_60d', 'days_since_install']])\n",
        "optimal_budget"
      ],
      "metadata": {
        "colab": {
          "base_uri": "https://localhost:8080/",
          "height": 455
        },
        "id": "5rx5nbZvVYPD",
        "outputId": "a53b9464-ffac-4b16-8295-eb69a9874652"
      },
      "execution_count": 12,
      "outputs": [
        {
          "output_type": "execute_result",
          "data": {
            "text/plain": [
              "             spends     AMP_60d  days_since_install\n",
              "campaign_id                                        \n",
              "19115         41.55  294.478412                1388\n",
              "22083         90.97  490.092752                1358\n",
              "89897         34.65    5.003485                1366\n",
              "89917          2.85   23.096828                1361\n",
              "89985         12.66   57.810684                1372\n",
              "...             ...         ...                 ...\n",
              "803287        14.03   26.650605                1370\n",
              "803393         0.10   -0.053727                1377\n",
              "803472         0.50   -0.500000                1362\n",
              "803588        59.68   54.431858                1385\n",
              "804309         0.20   -0.200000                1361\n",
              "\n",
              "[229 rows x 3 columns]"
            ],
            "text/html": [
              "\n",
              "  <div id=\"df-d096e3a7-fc90-457b-b493-62943dd4df1d\" class=\"colab-df-container\">\n",
              "    <div>\n",
              "<style scoped>\n",
              "    .dataframe tbody tr th:only-of-type {\n",
              "        vertical-align: middle;\n",
              "    }\n",
              "\n",
              "    .dataframe tbody tr th {\n",
              "        vertical-align: top;\n",
              "    }\n",
              "\n",
              "    .dataframe thead th {\n",
              "        text-align: right;\n",
              "    }\n",
              "</style>\n",
              "<table border=\"1\" class=\"dataframe\">\n",
              "  <thead>\n",
              "    <tr style=\"text-align: right;\">\n",
              "      <th></th>\n",
              "      <th>spends</th>\n",
              "      <th>AMP_60d</th>\n",
              "      <th>days_since_install</th>\n",
              "    </tr>\n",
              "    <tr>\n",
              "      <th>campaign_id</th>\n",
              "      <th></th>\n",
              "      <th></th>\n",
              "      <th></th>\n",
              "    </tr>\n",
              "  </thead>\n",
              "  <tbody>\n",
              "    <tr>\n",
              "      <th>19115</th>\n",
              "      <td>41.55</td>\n",
              "      <td>294.478412</td>\n",
              "      <td>1388</td>\n",
              "    </tr>\n",
              "    <tr>\n",
              "      <th>22083</th>\n",
              "      <td>90.97</td>\n",
              "      <td>490.092752</td>\n",
              "      <td>1358</td>\n",
              "    </tr>\n",
              "    <tr>\n",
              "      <th>89897</th>\n",
              "      <td>34.65</td>\n",
              "      <td>5.003485</td>\n",
              "      <td>1366</td>\n",
              "    </tr>\n",
              "    <tr>\n",
              "      <th>89917</th>\n",
              "      <td>2.85</td>\n",
              "      <td>23.096828</td>\n",
              "      <td>1361</td>\n",
              "    </tr>\n",
              "    <tr>\n",
              "      <th>89985</th>\n",
              "      <td>12.66</td>\n",
              "      <td>57.810684</td>\n",
              "      <td>1372</td>\n",
              "    </tr>\n",
              "    <tr>\n",
              "      <th>...</th>\n",
              "      <td>...</td>\n",
              "      <td>...</td>\n",
              "      <td>...</td>\n",
              "    </tr>\n",
              "    <tr>\n",
              "      <th>803287</th>\n",
              "      <td>14.03</td>\n",
              "      <td>26.650605</td>\n",
              "      <td>1370</td>\n",
              "    </tr>\n",
              "    <tr>\n",
              "      <th>803393</th>\n",
              "      <td>0.10</td>\n",
              "      <td>-0.053727</td>\n",
              "      <td>1377</td>\n",
              "    </tr>\n",
              "    <tr>\n",
              "      <th>803472</th>\n",
              "      <td>0.50</td>\n",
              "      <td>-0.500000</td>\n",
              "      <td>1362</td>\n",
              "    </tr>\n",
              "    <tr>\n",
              "      <th>803588</th>\n",
              "      <td>59.68</td>\n",
              "      <td>54.431858</td>\n",
              "      <td>1385</td>\n",
              "    </tr>\n",
              "    <tr>\n",
              "      <th>804309</th>\n",
              "      <td>0.20</td>\n",
              "      <td>-0.200000</td>\n",
              "      <td>1361</td>\n",
              "    </tr>\n",
              "  </tbody>\n",
              "</table>\n",
              "<p>229 rows × 3 columns</p>\n",
              "</div>\n",
              "    <div class=\"colab-df-buttons\">\n",
              "\n",
              "  <div class=\"colab-df-container\">\n",
              "    <button class=\"colab-df-convert\" onclick=\"convertToInteractive('df-d096e3a7-fc90-457b-b493-62943dd4df1d')\"\n",
              "            title=\"Convert this dataframe to an interactive table.\"\n",
              "            style=\"display:none;\">\n",
              "\n",
              "  <svg xmlns=\"http://www.w3.org/2000/svg\" height=\"24px\" viewBox=\"0 -960 960 960\">\n",
              "    <path d=\"M120-120v-720h720v720H120Zm60-500h600v-160H180v160Zm220 220h160v-160H400v160Zm0 220h160v-160H400v160ZM180-400h160v-160H180v160Zm440 0h160v-160H620v160ZM180-180h160v-160H180v160Zm440 0h160v-160H620v160Z\"/>\n",
              "  </svg>\n",
              "    </button>\n",
              "\n",
              "  <style>\n",
              "    .colab-df-container {\n",
              "      display:flex;\n",
              "      gap: 12px;\n",
              "    }\n",
              "\n",
              "    .colab-df-convert {\n",
              "      background-color: #E8F0FE;\n",
              "      border: none;\n",
              "      border-radius: 50%;\n",
              "      cursor: pointer;\n",
              "      display: none;\n",
              "      fill: #1967D2;\n",
              "      height: 32px;\n",
              "      padding: 0 0 0 0;\n",
              "      width: 32px;\n",
              "    }\n",
              "\n",
              "    .colab-df-convert:hover {\n",
              "      background-color: #E2EBFA;\n",
              "      box-shadow: 0px 1px 2px rgba(60, 64, 67, 0.3), 0px 1px 3px 1px rgba(60, 64, 67, 0.15);\n",
              "      fill: #174EA6;\n",
              "    }\n",
              "\n",
              "    .colab-df-buttons div {\n",
              "      margin-bottom: 4px;\n",
              "    }\n",
              "\n",
              "    [theme=dark] .colab-df-convert {\n",
              "      background-color: #3B4455;\n",
              "      fill: #D2E3FC;\n",
              "    }\n",
              "\n",
              "    [theme=dark] .colab-df-convert:hover {\n",
              "      background-color: #434B5C;\n",
              "      box-shadow: 0px 1px 3px 1px rgba(0, 0, 0, 0.15);\n",
              "      filter: drop-shadow(0px 1px 2px rgba(0, 0, 0, 0.3));\n",
              "      fill: #FFFFFF;\n",
              "    }\n",
              "  </style>\n",
              "\n",
              "    <script>\n",
              "      const buttonEl =\n",
              "        document.querySelector('#df-d096e3a7-fc90-457b-b493-62943dd4df1d button.colab-df-convert');\n",
              "      buttonEl.style.display =\n",
              "        google.colab.kernel.accessAllowed ? 'block' : 'none';\n",
              "\n",
              "      async function convertToInteractive(key) {\n",
              "        const element = document.querySelector('#df-d096e3a7-fc90-457b-b493-62943dd4df1d');\n",
              "        const dataTable =\n",
              "          await google.colab.kernel.invokeFunction('convertToInteractive',\n",
              "                                                    [key], {});\n",
              "        if (!dataTable) return;\n",
              "\n",
              "        const docLinkHtml = 'Like what you see? Visit the ' +\n",
              "          '<a target=\"_blank\" href=https://colab.research.google.com/notebooks/data_table.ipynb>data table notebook</a>'\n",
              "          + ' to learn more about interactive tables.';\n",
              "        element.innerHTML = '';\n",
              "        dataTable['output_type'] = 'display_data';\n",
              "        await google.colab.output.renderOutput(dataTable, element);\n",
              "        const docLink = document.createElement('div');\n",
              "        docLink.innerHTML = docLinkHtml;\n",
              "        element.appendChild(docLink);\n",
              "      }\n",
              "    </script>\n",
              "  </div>\n",
              "\n",
              "\n",
              "<div id=\"df-b4d0ed16-b482-44a0-9ed1-9d5b6b821f81\">\n",
              "  <button class=\"colab-df-quickchart\" onclick=\"quickchart('df-b4d0ed16-b482-44a0-9ed1-9d5b6b821f81')\"\n",
              "            title=\"Suggest charts\"\n",
              "            style=\"display:none;\">\n",
              "\n",
              "<svg xmlns=\"http://www.w3.org/2000/svg\" height=\"24px\"viewBox=\"0 0 24 24\"\n",
              "     width=\"24px\">\n",
              "    <g>\n",
              "        <path d=\"M19 3H5c-1.1 0-2 .9-2 2v14c0 1.1.9 2 2 2h14c1.1 0 2-.9 2-2V5c0-1.1-.9-2-2-2zM9 17H7v-7h2v7zm4 0h-2V7h2v10zm4 0h-2v-4h2v4z\"/>\n",
              "    </g>\n",
              "</svg>\n",
              "  </button>\n",
              "\n",
              "<style>\n",
              "  .colab-df-quickchart {\n",
              "      --bg-color: #E8F0FE;\n",
              "      --fill-color: #1967D2;\n",
              "      --hover-bg-color: #E2EBFA;\n",
              "      --hover-fill-color: #174EA6;\n",
              "      --disabled-fill-color: #AAA;\n",
              "      --disabled-bg-color: #DDD;\n",
              "  }\n",
              "\n",
              "  [theme=dark] .colab-df-quickchart {\n",
              "      --bg-color: #3B4455;\n",
              "      --fill-color: #D2E3FC;\n",
              "      --hover-bg-color: #434B5C;\n",
              "      --hover-fill-color: #FFFFFF;\n",
              "      --disabled-bg-color: #3B4455;\n",
              "      --disabled-fill-color: #666;\n",
              "  }\n",
              "\n",
              "  .colab-df-quickchart {\n",
              "    background-color: var(--bg-color);\n",
              "    border: none;\n",
              "    border-radius: 50%;\n",
              "    cursor: pointer;\n",
              "    display: none;\n",
              "    fill: var(--fill-color);\n",
              "    height: 32px;\n",
              "    padding: 0;\n",
              "    width: 32px;\n",
              "  }\n",
              "\n",
              "  .colab-df-quickchart:hover {\n",
              "    background-color: var(--hover-bg-color);\n",
              "    box-shadow: 0 1px 2px rgba(60, 64, 67, 0.3), 0 1px 3px 1px rgba(60, 64, 67, 0.15);\n",
              "    fill: var(--button-hover-fill-color);\n",
              "  }\n",
              "\n",
              "  .colab-df-quickchart-complete:disabled,\n",
              "  .colab-df-quickchart-complete:disabled:hover {\n",
              "    background-color: var(--disabled-bg-color);\n",
              "    fill: var(--disabled-fill-color);\n",
              "    box-shadow: none;\n",
              "  }\n",
              "\n",
              "  .colab-df-spinner {\n",
              "    border: 2px solid var(--fill-color);\n",
              "    border-color: transparent;\n",
              "    border-bottom-color: var(--fill-color);\n",
              "    animation:\n",
              "      spin 1s steps(1) infinite;\n",
              "  }\n",
              "\n",
              "  @keyframes spin {\n",
              "    0% {\n",
              "      border-color: transparent;\n",
              "      border-bottom-color: var(--fill-color);\n",
              "      border-left-color: var(--fill-color);\n",
              "    }\n",
              "    20% {\n",
              "      border-color: transparent;\n",
              "      border-left-color: var(--fill-color);\n",
              "      border-top-color: var(--fill-color);\n",
              "    }\n",
              "    30% {\n",
              "      border-color: transparent;\n",
              "      border-left-color: var(--fill-color);\n",
              "      border-top-color: var(--fill-color);\n",
              "      border-right-color: var(--fill-color);\n",
              "    }\n",
              "    40% {\n",
              "      border-color: transparent;\n",
              "      border-right-color: var(--fill-color);\n",
              "      border-top-color: var(--fill-color);\n",
              "    }\n",
              "    60% {\n",
              "      border-color: transparent;\n",
              "      border-right-color: var(--fill-color);\n",
              "    }\n",
              "    80% {\n",
              "      border-color: transparent;\n",
              "      border-right-color: var(--fill-color);\n",
              "      border-bottom-color: var(--fill-color);\n",
              "    }\n",
              "    90% {\n",
              "      border-color: transparent;\n",
              "      border-bottom-color: var(--fill-color);\n",
              "    }\n",
              "  }\n",
              "</style>\n",
              "\n",
              "  <script>\n",
              "    async function quickchart(key) {\n",
              "      const quickchartButtonEl =\n",
              "        document.querySelector('#' + key + ' button');\n",
              "      quickchartButtonEl.disabled = true;  // To prevent multiple clicks.\n",
              "      quickchartButtonEl.classList.add('colab-df-spinner');\n",
              "      try {\n",
              "        const charts = await google.colab.kernel.invokeFunction(\n",
              "            'suggestCharts', [key], {});\n",
              "      } catch (error) {\n",
              "        console.error('Error during call to suggestCharts:', error);\n",
              "      }\n",
              "      quickchartButtonEl.classList.remove('colab-df-spinner');\n",
              "      quickchartButtonEl.classList.add('colab-df-quickchart-complete');\n",
              "    }\n",
              "    (() => {\n",
              "      let quickchartButtonEl =\n",
              "        document.querySelector('#df-b4d0ed16-b482-44a0-9ed1-9d5b6b821f81 button');\n",
              "      quickchartButtonEl.style.display =\n",
              "        google.colab.kernel.accessAllowed ? 'block' : 'none';\n",
              "    })();\n",
              "  </script>\n",
              "</div>\n",
              "    </div>\n",
              "  </div>\n"
            ]
          },
          "metadata": {},
          "execution_count": 12
        }
      ]
    },
    {
      "cell_type": "markdown",
      "source": [
        "Если AMP положительна, это означает, что кампания приносит больше дохода, чем составляют ее затраты, и следовательно, является прибыльной. Отрицательная AMP указывает на то, что кампания не окупается."
      ],
      "metadata": {
        "id": "YsugXuqVX1T1"
      }
    },
    {
      "cell_type": "markdown",
      "source": [
        "#### 4.2.3 Рекомендации по изменению бюджета для каждой кампании\n",
        "\n"
      ],
      "metadata": {
        "id": "jZodkXZ4b7L8"
      }
    },
    {
      "cell_type": "markdown",
      "source": [
        "Добавим столбец `Recommendation` к датафрейму `optimal_budget`, который содержит рекомендации по каждой рекламной кампании. Рекомендации определим на основе двух ключевых показателей: абсолютной маркетинговой прибыли (AMP) за 60 дней и количества дней с момента установки кампании (days_since_install).\n",
        "\n",
        "Условия для Рекомендаций:  \n",
        "\n",
        "1. Увеличить бюджет (Increase): если кампания длится более 60 дней и показывает положительную AMP (AMP > 0), что указывает на ее прибыльность.  \n",
        "2. Уменьшить бюджет (Decrease): если кампания длится более 60 дней, но показывает отрицательную или нулевую AMP (AMP ≤ 0), что может указывать на убытки или неэффективность.  \n",
        "3. Ожидать/Собирать больше данных (Wait/Collect more data): если кампания длится менее 60 дней, так как для таких кампаний данных может быть недостаточно для определения их эффективности.  "
      ],
      "metadata": {
        "id": "czCC7RzhevRV"
      }
    },
    {
      "cell_type": "code",
      "source": [
        "# Рекомендации по изменению бюджета для каждой кампании\n",
        "optimal_budget['Recommendation'] = optimal_budget.apply(\n",
        "    lambda row: 'Increase' if row['days_since_install'] >= 60 and row['AMP_60d'] > 0 else (\n",
        "        'Decrease' if row['days_since_install'] >= 60 and row['AMP_60d'] <= 0 else 'Wait/Collect more data'),\n",
        "    axis=1\n",
        ")\n",
        "print(optimal_budget)\n"
      ],
      "metadata": {
        "colab": {
          "base_uri": "https://localhost:8080/"
        },
        "id": "LCBM0b-OVX8t",
        "outputId": "7d0bea27-f5e9-48fc-8e52-e92512884b6d"
      },
      "execution_count": 13,
      "outputs": [
        {
          "output_type": "stream",
          "name": "stdout",
          "text": [
            "             spends     AMP_60d  days_since_install Recommendation\n",
            "campaign_id                                                       \n",
            "19115         41.55  294.478412                1388       Increase\n",
            "22083         90.97  490.092752                1358       Increase\n",
            "89897         34.65    5.003485                1366       Increase\n",
            "89917          2.85   23.096828                1361       Increase\n",
            "89985         12.66   57.810684                1372       Increase\n",
            "...             ...         ...                 ...            ...\n",
            "803287        14.03   26.650605                1370       Increase\n",
            "803393         0.10   -0.053727                1377       Decrease\n",
            "803472         0.50   -0.500000                1362       Decrease\n",
            "803588        59.68   54.431858                1385       Increase\n",
            "804309         0.20   -0.200000                1361       Decrease\n",
            "\n",
            "[229 rows x 4 columns]\n"
          ]
        }
      ]
    },
    {
      "cell_type": "markdown",
      "source": [
        "Согласно условиям мы вывели  `campaign_id`\n"
      ],
      "metadata": {
        "id": "wtjdv7kEc4Hr"
      }
    },
    {
      "cell_type": "markdown",
      "source": [
        "#### 4.2.4 Визуализация рекомендаций"
      ],
      "metadata": {
        "id": "aIwZPkMzcotc"
      }
    },
    {
      "cell_type": "code",
      "source": [
        "# Визуализация распределения рекомендаций\n",
        "plt.figure(figsize=(8, 5))\n",
        "optimal_budget['Recommendation'].value_counts().plot(kind='bar', color='skyblue')\n",
        "plt.title('Distribution of Recommendations for Campaign Budget')\n",
        "plt.xlabel('Recommendation')\n",
        "plt.ylabel('Number of Campaigns')\n",
        "plt.show()\n"
      ],
      "metadata": {
        "colab": {
          "base_uri": "https://localhost:8080/",
          "height": 538
        },
        "id": "GLXcEP51cpT0",
        "outputId": "b624560a-e783-4019-a50d-b823ad23f17d"
      },
      "execution_count": 14,
      "outputs": [
        {
          "output_type": "display_data",
          "data": {
            "text/plain": [
              "<Figure size 800x500 with 1 Axes>"
            ],
            "image/png": "[encoded data removed]"
          },
          "metadata": {}
        }
      ]
    },
    {
      "cell_type": "markdown",
      "source": [
        "**Вывод:**  \n"
      ],
      "metadata": {
        "id": "11KMP5syi1a8"
      }
    },
    {
      "cell_type": "markdown",
      "source": [
        "Распределение рекомендаций по бюджетам кампаний указывает на то, что для большинства кампаний рекомендуется \"Увеличить\" (Increase) бюджет. Это означает, что многие кампании показывают положительную абсолютную маркетинговую прибыль (AMP), основанную на 60-дневном сроке службы (LTV) за вычетом затрат, что предполагает возможности для инвестиций с целью максимизации отдачи.\n",
        "\n",
        "Что касается кампаний, у которых еще нет полных 60-дневных данных, рекомендуется \"Подождать / собрать больше данных\" (Wait/Collect more data), пока не будет доступно достаточно данных для принятия обоснованного решения. Этот подход гарантирует, что любые корректировки бюджета будут производиться на основе надежных доказательств эффективности кампании с течением времени. Эта стратегия особенно актуальна для новых кампаний или тех, в которых произошли значительные изменения, где долгосрочное влияние на рентабельность инвестиций пока неясно.\n",
        "\n",
        "В целом, анализ предполагает:\n",
        "\n",
        "Для кампаний с объемом данных более 60 дней и положительным усилением увеличение бюджета может привести к большей отдаче.\n",
        "Для кампаний с данными менее чем за 60 дней или неположительным AMP рекомендуется дождаться получения дополнительных данных или пересмотреть стратегию кампании."
      ],
      "metadata": {
        "id": "xdXCS-5Nivv2"
      }
    },
    {
      "cell_type": "markdown",
      "source": [
        "# **2. Сравнение групп платящих игроков**\n",
        "<img align=\"left\" src=\"https://media.giphy.com/media/fsoCk5kgOcYMM/giphy-downsized-large.gif\" width=\"250\">"
      ],
      "metadata": {
        "id": "D6WiwwWYFjGG"
      }
    },
    {
      "cell_type": "markdown",
      "source": [
        "**Описание задачи:**  \n",
        "В мобильной игре около 10% игроков совершает платежи в первый месяц с момента установки игры (база расчета - 500 игроков).   \n",
        "Геймдизайнеры разработали обновление которое по их экспертной оценке должно увеличить процент плательщиков с 10% до 11%. Цель эксперимента - подтвердить или опровергнуть их гипотезу.  \n",
        "1.\tОпишите оптимальный по вашему мнению дизайн эксперимента  \n",
        "2.\tРассчитайте длительность эксперимента при условии что каждый день в игру приходит около 100 новых игроков.  \n",
        "3.\tСамостоятельно сгенерируйте датасет с около 10% плательщиков (контроль) и рассчитайте доверительный интервал.  \n",
        "4.\tСгенерируйте несколько вариантов экспериментальной группы (хуже, лучше, без эффекта), рассчитайте силу эффекта, ДИ и ваши выводы для каждого варианта.  \n",
        "5.\tРешите задачу 2 разными подходами: frequentist / bayesian  \n",
        "\n",
        "Необходимо все ответы сопроводить комментариями почему вы выбрали ту или иную методику расчета, алгоритм и т.д.  \n"
      ],
      "metadata": {
        "id": "hAmNJRBzFi_s"
      }
    },
    {
      "cell_type": "markdown",
      "source": [
        "### **2.1 Дизайн эксперимента**"
      ],
      "metadata": {
        "id": "v9RT2WFwMQsU"
      }
    },
    {
      "cell_type": "markdown",
      "source": [
        "**Дизайн эксперимента**  \n",
        "Цель  \n",
        "Цель эксперимента - определить, увеличивает ли обновление игры процент платящих игроков с 10% до 11%.  \n",
        "\n",
        "Группы  \n",
        "Контрольная группа: Игроки, использующие текущую версию игры.  \n",
        "Экспериментальная группа: Игроки, использующие обновленную версию игры.  \n",
        "Методика  \n",
        "Рандомизация: Новые игроки рандомно распределяются между контрольной и экспериментальной группами.  \n",
        "Период отслеживания: Отслеживание платежей в течение первого месяца после установки игры.  \n"
      ],
      "metadata": {
        "id": "X1xgLSCXMi2u"
      }
    },
    {
      "cell_type": "markdown",
      "source": [
        "### **2.2 Генерация контрольного датасета:**"
      ],
      "metadata": {
        "id": "tJJ-ZaqxNFL3"
      }
    },
    {
      "cell_type": "markdown",
      "source": [
        "Контрольная группа: результаты и доверительный интервал"
      ],
      "metadata": {
        "id": "Mby8GKOZWmnm"
      }
    },
    {
      "cell_type": "code",
      "source": [
        "from scipy.stats import norm, binom_test\n",
        "import matplotlib.pyplot as plt\n",
        "import seaborn as sns\n",
        "\n",
        "# Параметры контрольной группы\n",
        "total_players = 500  # общее количество игроков\n",
        "paying_percentage = 0.10  # процент платящих игроков\n",
        "\n",
        "# Генерация контрольного датасета\n",
        "np.random.seed(0)\n",
        "control_group = np.random.binomial(1, paying_percentage, total_players)\n",
        "\n",
        "# Расчет доверительного интервала для контрольной группы\n",
        "confidence_level = 0.95\n",
        "z_value = norm.ppf((1 + confidence_level) / 2)\n",
        "paying_players = np.sum(control_group)\n",
        "p_hat = paying_players / total_players\n",
        "margin_of_error = z_value * np.sqrt((p_hat * (1 - p_hat)) / total_players)\n",
        "ci_lower = p_hat - margin_of_error\n",
        "ci_upper = p_hat + margin_of_error\n",
        "\n",
        "# Вывод результатов\n",
        "control_group_results = {\n",
        "    \"Total Players\": total_players,\n",
        "    \"Paying Players\": paying_players,\n",
        "    \"Paying Percentage\": p_hat,\n",
        "    \"95% CI Lower Bound\": ci_lower,\n",
        "    \"95% CI Upper Bound\": ci_upper\n",
        "}\n",
        "\n",
        "control_group_results\n",
        "\n"
      ],
      "metadata": {
        "colab": {
          "base_uri": "https://localhost:8080/"
        },
        "id": "N6gNZIYKM68j",
        "outputId": "ddc47568-37f5-4b71-9874-6f80f648d94e"
      },
      "execution_count": 17,
      "outputs": [
        {
          "output_type": "execute_result",
          "data": {
            "text/plain": [
              "{'Total Players': 500,\n",
              " 'Paying Players': 57,\n",
              " 'Paying Percentage': 0.114,\n",
              " '95% CI Lower Bound': 0.0861431262800224,\n",
              " '95% CI Upper Bound': 0.1418568737199776}"
            ]
          },
          "metadata": {},
          "execution_count": 17
        }
      ]
    },
    {
      "cell_type": "markdown",
      "source": [
        " Общее количество игроков: 500  \n",
        "Количество платящих игроков: 57  \n",
        "Процент платящих игроков: 11.4%  \n",
        "95% доверительный интервал: от 8.61% до 14.19%  "
      ],
      "metadata": {
        "id": "6uS8pHzoN-h1"
      }
    },
    {
      "cell_type": "markdown",
      "source": [
        "### **2.3 Расчет размера выборки для эксперимента:**"
      ],
      "metadata": {
        "id": "pDDq4pNHODg-"
      }
    },
    {
      "cell_type": "code",
      "source": [
        "from statsmodels.stats.power import NormalIndPower\n",
        "from statsmodels.stats.proportion import proportion_effectsize\n",
        "\n",
        "# Параметры для расчета размера выборки\n",
        "alpha = 0.05  # Уровень значимости\n",
        "power = 0.8  # Мощность теста\n",
        "p0 = 0.10  # Базовый процент платящих игроков\n",
        "p1 = 0.11  # Ожидаемый процент платящих игроков\n",
        "\n",
        "# Расчет эффекта\n",
        "effect_size = proportion_effectsize(p0, p1)\n",
        "\n",
        "# Расчет размера выборки\n",
        "sample_size_calculator = NormalIndPower()\n",
        "sample_size = sample_size_calculator.solve_power(\n",
        "    effect_size,\n",
        "    power=power,\n",
        "    alpha=alpha,\n",
        "    ratio=1  # Отношение размеров экспериментальной и контрольной группы\n",
        ")\n",
        "\n",
        "sample_size_per_group = np.ceil(sample_size)  # Округление вверх до целого числа\n",
        "total_sample_size = sample_size_per_group * 2  # Общий размер выборки для обеих групп\n",
        "\n",
        "total_sample_size, sample_size_per_group\n",
        "\n"
      ],
      "metadata": {
        "colab": {
          "base_uri": "https://localhost:8080/"
        },
        "id": "QVQE-Tv2OCdS",
        "outputId": "6a097a1e-89c0-4984-a7cf-45bdc06a50a8"
      },
      "execution_count": 18,
      "outputs": [
        {
          "output_type": "execute_result",
          "data": {
            "text/plain": [
              "(29490.0, 14745.0)"
            ]
          },
          "metadata": {},
          "execution_count": 18
        }
      ]
    },
    {
      "cell_type": "markdown",
      "source": [
        "Для достижения статистической значимости с уровнем значимости 5% и мощностью теста 80%:  \n",
        "\n",
        "Необходимый размер выборки для каждой группы: 14,745 игроков\n",
        "Общий размер выборки для обеих групп: 29,490 игроков.\n",
        "Это означает, что для надежного тестирования гипотезы о повышении процента платящих игроков с 10% до 11%, нам потребуется минимум 14,745 новых игроков в каждой группе.  \n",
        "\n",
        "Теперь, когда у нас есть информация о размере выборки, мы можем рассчитать длительность эксперимента, учитывая, что каждый день в игру приходит около 100 новых игроков.   "
      ],
      "metadata": {
        "id": "Y3NU7xklPKg9"
      }
    },
    {
      "cell_type": "markdown",
      "source": [
        "### **2.4 Длительность эксперимента:**"
      ],
      "metadata": {
        "id": "kb0CGQgJPZwt"
      }
    },
    {
      "cell_type": "code",
      "source": [
        "# Количество новых игроков в день\n",
        "new_players_per_day = 100\n",
        "\n",
        "# Расчет длительности эксперимента\n",
        "duration_days = np.ceil(sample_size_per_group / new_players_per_day)\n",
        "\n",
        "duration_days\n",
        "\n"
      ],
      "metadata": {
        "colab": {
          "base_uri": "https://localhost:8080/"
        },
        "id": "46qcEhLpPNLr",
        "outputId": "8888ecd0-3630-4f63-f93f-5b101db5cc6b"
      },
      "execution_count": 19,
      "outputs": [
        {
          "output_type": "execute_result",
          "data": {
            "text/plain": [
              "148.0"
            ]
          },
          "metadata": {},
          "execution_count": 19
        }
      ]
    },
    {
      "cell_type": "markdown",
      "source": [
        "Для сбора достаточного количества данных (14,745 игроков в каждой группе) при условии, что каждый день в игру приходит около 100 новых игроков, длительность эксперимента составит 148 дней.  \n",
        "\n",
        "Далее мы перейдем к созданию экспериментальных групп с различными сценариями (хуже, лучше, без изменений) и рассчитаем силу эффекта, доверительные интервалы и сделаем выводы для каждого варианта. Начнем с генерации данных для этих групп.  "
      ],
      "metadata": {
        "id": "vntwkUMPPl5l"
      }
    },
    {
      "cell_type": "markdown",
      "source": [
        "### **2.5 Создание экспериментальных групп с различными сценариями (хуже, лучше, без изменений):**"
      ],
      "metadata": {
        "id": "3hd6a0MVP3O2"
      }
    },
    {
      "cell_type": "code",
      "source": [
        "# Функция для генерации экспериментальной группы и расчета статистик\n",
        "def generate_experimental_group(paying_percentage, group_size):\n",
        "    # Генерация данных для экспериментальной группы\n",
        "    experimental_group = np.random.binomial(1, paying_percentage, group_size)\n",
        "\n",
        "    # Расчет доверительного интервала\n",
        "    paying_players_exp = np.sum(experimental_group)\n",
        "    p_hat_exp = paying_players_exp / group_size\n",
        "    margin_of_error_exp = z_value * np.sqrt((p_hat_exp * (1 - p_hat_exp)) / group_size)\n",
        "    ci_lower_exp = p_hat_exp - margin_of_error_exp\n",
        "    ci_upper_exp = p_hat_exp + margin_of_error_exp\n",
        "\n",
        "    # Результаты\n",
        "    results = {\n",
        "        \"Paying Players\": paying_players_exp,\n",
        "        \"Paying Percentage\": p_hat_exp,\n",
        "        \"95% CI Lower Bound\": ci_lower_exp,\n",
        "        \"95% CI Upper Bound\": ci_upper_exp\n",
        "    }\n",
        "\n",
        "    return results\n",
        "\n",
        "# Генерация и анализ для разных сценариев\n",
        "scenario_results = {\n",
        "    \"Worse Scenario\": generate_experimental_group(0.09, int(sample_size_per_group)),  # 9% плательщиков\n",
        "    \"Better Scenario\": generate_experimental_group(0.12, int(sample_size_per_group)),  # 12% плательщиков\n",
        "    \"No Change Scenario\": generate_experimental_group(0.10, int(sample_size_per_group))  # 10% плательщиков\n",
        "}\n",
        "\n",
        "scenario_results\n",
        "\n"
      ],
      "metadata": {
        "colab": {
          "base_uri": "https://localhost:8080/"
        },
        "id": "3Gk9_tDNPuFq",
        "outputId": "358c6040-64f5-49e3-e871-33b4892b2fec"
      },
      "execution_count": 20,
      "outputs": [
        {
          "output_type": "execute_result",
          "data": {
            "text/plain": [
              "{'Worse Scenario': {'Paying Players': 1317,\n",
              "  'Paying Percentage': 0.08931841302136317,\n",
              "  '95% CI Lower Bound': 0.08471500490113724,\n",
              "  '95% CI Upper Bound': 0.0939218211415891},\n",
              " 'Better Scenario': {'Paying Players': 1799,\n",
              "  'Paying Percentage': 0.12200746015598508,\n",
              "  '95% CI Lower Bound': 0.11672465845868728,\n",
              "  '95% CI Upper Bound': 0.1272902618532829},\n",
              " 'No Change Scenario': {'Paying Players': 1472,\n",
              "  'Paying Percentage': 0.0998304510003391,\n",
              "  '95% CI Lower Bound': 0.09499185482420108,\n",
              "  '95% CI Upper Bound': 0.10466904717647713}}"
            ]
          },
          "metadata": {},
          "execution_count": 20
        }
      ]
    },
    {
      "cell_type": "markdown",
      "source": [
        "Результаты экспериментальных групп:  \n",
        "Худший сценарий (9% плательщиков)  \n",
        "\n",
        "Платящие игроки: 1317   \n",
        "Процент плательщиков: 8,93%   \n",
        "95% доверительный интервал: 8,47% - 9,39%  \n",
        "Лучший сценарий (12% плательщиков)  \n",
        "\n",
        "Платящие игроки: 1799  \n",
        "Процент плательщиков: 12,2%  \n",
        "95% доверительный интервал: 11,67% - 12,73%  \n",
        "Без изменений (10% плательщиков)  \n",
        "\n",
        "Платящие игроки: 1472  \n",
        "Процент плательщиков: 9,98%  \n",
        "95% доверительный интервал: 9,50% - 10,47%  "
      ],
      "metadata": {
        "id": "Aa0BXc59QScV"
      }
    },
    {
      "cell_type": "markdown",
      "source": [
        "### **2.6 Анализ силы эффекта:**"
      ],
      "metadata": {
        "id": "u19qsWcNQwd2"
      }
    },
    {
      "cell_type": "code",
      "source": [
        "# Расчет силы эффекта для каждого сценария\n",
        "effect_sizes = {}\n",
        "for scenario, results in scenario_results.items():\n",
        "    effect_size = results[\"Paying Percentage\"] - control_group_results[\"Paying Percentage\"]\n",
        "    effect_sizes[scenario] = effect_size\n",
        "\n",
        "effect_sizes\n",
        "\n"
      ],
      "metadata": {
        "colab": {
          "base_uri": "https://localhost:8080/"
        },
        "id": "2Dn-dvcPQ-7F",
        "outputId": "902288cf-c086-4438-c891-003047bc8de0"
      },
      "execution_count": 21,
      "outputs": [
        {
          "output_type": "execute_result",
          "data": {
            "text/plain": [
              "{'Worse Scenario': -0.02468158697863683,\n",
              " 'Better Scenario': 0.00800746015598508,\n",
              " 'No Change Scenario': -0.0141695489996609}"
            ]
          },
          "metadata": {},
          "execution_count": 21
        }
      ]
    },
    {
      "cell_type": "markdown",
      "source": [
        "Худший сценарий: Снижение на 2,47% по сравнению с контрольной группой.  \n",
        "\n",
        "Лучший сценарий: Увеличение на 0,8% по сравнению с контрольной группой.  \n",
        "\n",
        "Без изменений: Снижение на 1,42% по сравнению с контрольной группой.  \n",
        "\n",
        "Выводы:  \n",
        "Худший сценарий: Значительное снижение процента платящих игроков, что указывает на потенциально отрицательное влияние обновления.  \n",
        "Лучший сценарий: Небольшое увеличение, однако оно меньше ожидаемого повышения до 11%. Это может быть не достаточно убедительным для подтверждения гипотезы геймдизайнеров.  \n",
        "Без изменений: Практически не наблюдается изменений, что указывает на отсутствие значимого влияния обновления на процент плательщиков.  "
      ],
      "metadata": {
        "id": "LOGX18vjROsW"
      }
    },
    {
      "cell_type": "markdown",
      "source": [
        "Теперь мы можем перейти к статистическому анализу данных с использованием двух разных подходов: частотного (frequentist) и байесовского (bayesian).  \n",
        " Это позволит нам сделать более обоснованные выводы о влиянии обновления на платежную активность игроков.  "
      ],
      "metadata": {
        "id": "ZsL869AVRgnW"
      }
    },
    {
      "cell_type": "markdown",
      "source": [
        "### **2.7 Частотный (frequentist) анализ**"
      ],
      "metadata": {
        "id": "7mRZUz1-Xge7"
      }
    },
    {
      "cell_type": "code",
      "source": [
        "from statsmodels.stats.proportion import proportions_ztest\n",
        "\n",
        "# Функция для проведения Z-теста сравнения долей\n",
        "def perform_z_test(group1, group2, group1_size, group2_size):\n",
        "    count = np.array([group1, group2])\n",
        "    nobs = np.array([group1_size, group2_size])\n",
        "    stat, pval = proportions_ztest(count, nobs)\n",
        "    return stat, pval\n",
        "\n",
        "# Результаты Z-теста для каждого сценария\n",
        "z_test_results = {}\n",
        "for scenario, results in scenario_results.items():\n",
        "    stat, pval = perform_z_test(\n",
        "        results[\"Paying Players\"],\n",
        "        control_group_results[\"Paying Players\"],\n",
        "        int(sample_size_per_group),\n",
        "        control_group_results[\"Total Players\"]\n",
        "    )\n",
        "    z_test_results[scenario] = {'Z-Statistic': stat, 'P-Value': pval}\n",
        "\n",
        "z_test_results\n",
        "\n"
      ],
      "metadata": {
        "colab": {
          "base_uri": "https://localhost:8080/"
        },
        "id": "LcY6k1_DRW9K",
        "outputId": "6ff7a0e9-6ae0-4b38-f012-99f4a5c7258e"
      },
      "execution_count": 22,
      "outputs": [
        {
          "output_type": "execute_result",
          "data": {
            "text/plain": [
              "{'Worse Scenario': {'Z-Statistic': -1.8953827915932475,\n",
              "  'P-Value': 0.05804170682971717},\n",
              " 'Better Scenario': {'Z-Statistic': 0.5385212368558164,\n",
              "  'P-Value': 0.5902172476466911},\n",
              " 'No Change Scenario': {'Z-Statistic': -1.0373125957200977,\n",
              "  'P-Value': 0.2995901975012685}}"
            ]
          },
          "metadata": {},
          "execution_count": 22
        }
      ]
    },
    {
      "cell_type": "markdown",
      "source": [
        "Результаты частотного (Frequentist) анализа: Z-тест\n",
        "\n",
        "Худший сценарий:    \n",
        "\n",
        "Z-статистика: -1,90  \n",
        "P-значение: 0,058  \n",
        "\n",
        "Лучший сценарий:    \n",
        "\n",
        "Z-статистика: 0,54\n",
        "P-значение: 0,590\n",
        "\n",
        "Без изменений:  \n",
        "\n",
        "Z-статистика: -1,04  \n",
        "P-значение: 0,300  \n",
        "\n",
        "Интерпретация результатов:  \n",
        "\n",
        "Худший сценарий: P-значение (0,058) близко к 0,05, что указывает на граничную статистическую значимость. Однако это не достаточно для отвержения нулевой гипотезы о равенстве долей.\n",
        "Лучший сценарий: Высокое P-значение (0,590) указывает на отсутствие статистически значимых различий между экспериментальной и контрольной группами.\n",
        "Без изменений: P-значение (0,300) также указывает на отсутствие статистически значимых различий.  \n",
        "Теперь перейдем к байесовскому анализу. Этот подход позволяет оценить вероятность гипотезы, основываясь на предварительных знаниях и наблюдаемых данных. Для этого мы будем использовать байесовское обновление вероятностей с учетом наблюдаемых данных."
      ],
      "metadata": {
        "id": "TToSgqd9R3ZV"
      }
    },
    {
      "cell_type": "markdown",
      "source": [
        "### **2.8 Байесовского (bayesian) анализ**"
      ],
      "metadata": {
        "id": "h4UW6VFlYBmc"
      }
    },
    {
      "cell_type": "code",
      "source": [
        "from scipy.stats import beta\n",
        "\n",
        "# Функция для байесовского анализа\n",
        "def bayesian_analysis(successes, trials, prior_successes=1, prior_failures=1):\n",
        "    # Апостериорные параметры\n",
        "    post_successes = prior_successes + successes\n",
        "    post_failures = prior_failures + trials - successes\n",
        "\n",
        "    # Апостериорное среднее (ожидаемая доля успехов)\n",
        "    posterior_mean = post_successes / (post_successes + post_failures)\n",
        "\n",
        "    # 95% Доверительный интервал\n",
        "    ci_lower, ci_upper = beta.ppf([0.025, 0.975], post_successes, post_failures)\n",
        "\n",
        "    return {\n",
        "        \"Posterior Mean\": posterior_mean,\n",
        "        \"95% CI Lower\": ci_lower,\n",
        "        \"95% CI Upper\": ci_upper\n",
        "    }\n",
        "\n",
        "# Байесовский анализ для каждого сценария\n",
        "bayesian_results = {}\n",
        "for scenario, results in scenario_results.items():\n",
        "    bayesian_results[scenario] = bayesian_analysis(\n",
        "        results[\"Paying Players\"],\n",
        "        int(sample_size_per_group)\n",
        "    )\n",
        "\n",
        "bayesian_results\n",
        "\n"
      ],
      "metadata": {
        "colab": {
          "base_uri": "https://localhost:8080/"
        },
        "id": "1dq3gy9qSc4C",
        "outputId": "b05edf79-a5d9-42b9-d572-de15cf63c843"
      },
      "execution_count": 23,
      "outputs": [
        {
          "output_type": "execute_result",
          "data": {
            "text/plain": [
              "{'Worse Scenario': {'Posterior Mean': 0.08937410998847223,\n",
              "  '95% CI Lower': 0.084822913090398,\n",
              "  '95% CI Upper': 0.09403079582540765},\n",
              " 'Better Scenario': {'Posterior Mean': 0.12205872380823218,\n",
              "  '95% CI Lower': 0.11682429388434364,\n",
              "  '95% CI Upper': 0.12739024746131963},\n",
              " 'No Change Scenario': {'Posterior Mean': 0.09988472231640334,\n",
              "  '95% CI Lower': 0.095097118023021,\n",
              "  '95% CI Upper': 0.10477511597814795}}"
            ]
          },
          "metadata": {},
          "execution_count": 23
        }
      ]
    },
    {
      "cell_type": "markdown",
      "source": [
        "Результаты байесовского анализа:  \n",
        "\n",
        "Худший сценарий:  \n",
        "\n",
        "Апостериорное среднее: 8,94%  \n",
        "95% доверительный интервал: 8,48% - 9,40%  \n",
        "\n",
        "Лучший сценарий:  \n",
        "\n",
        "Апостериорное среднее: 12,21%  \n",
        "95% доверительный интервал: 11,68% - 12,74%  \n",
        "\n",
        "Без изменений:  \n",
        "\n",
        "Апостериорное среднее: 9,99%  \n",
        "95% доверительный интервал: 9,51% - 10,48%  \n",
        "\n",
        "Интерпретация результатов байесовского анализа:  \n",
        "\n",
        "Худший сценарий: Апостериорное среднее и доверительный интервал подтверждают наблюдения, сделанные в частотном анализе, указывая на потенциальное снижение платежной активности.  \n",
        "Лучший сценарий: Апостериорное среднее и доверительный интервал указывают на увеличение платежной активности, хотя и не достигают уровня, предполагаемого геймдизайнерами.  \n",
        "Без изменений: Результаты согласуются с частотным анализом, указывая на отсутствие значительных изменений в платежной активности.  "
      ],
      "metadata": {
        "id": "tLNLLQQNSqPO"
      }
    },
    {
      "cell_type": "markdown",
      "source": [
        "### **2.9 Общие выводы**  \n",
        "Частотный анализ: Не нашел статистически значимых различий между экспериментальными и контрольными группами.  \n",
        "Байесовский анализ: Предоставил оценки вероятностей и доверительные интервалы, подтверждающие результаты частотного анализа.  \n",
        "Эксперимент показывает, что обновление игры не оказало значительного влияния на процент платящих игроков, как это ожидали геймдизайнеры. Важно учесть, что эти выводы основаны на моделировании данных и могут отличаться в реальных условиях."
      ],
      "metadata": {
        "id": "kqy1YVbPTYX2"
      }
    },
    {
      "cell_type": "markdown",
      "source": [
        "### **2.10 Визуализация**"
      ],
      "metadata": {
        "id": "2dPVh2pKYctG"
      }
    },
    {
      "cell_type": "markdown",
      "source": [
        "Для дальнейшего анализа и подкрепления наших выводов, мы можем визуализировать результаты эксперимента. Визуализация данных может помочь лучше понять распределения и различия между контрольными и экспериментальными группами. Создадим несколько графиков:  \n",
        "\n",
        "**Гистограмма распределения платежей:** Покажем распределение платежей в контрольной и экспериментальных группах.  \n",
        "**Диаграмма доверительных интервалов:** Визуализируем доверительные интервалы для частотного и байесовского анализа, чтобы увидеть перекрытия и различия между группами.  "
      ],
      "metadata": {
        "id": "xZx2EfPTTpx9"
      }
    },
    {
      "cell_type": "markdown",
      "source": [
        "**Гистограмма распределения платежей:**"
      ],
      "metadata": {
        "id": "0VtpNropUIiN"
      }
    },
    {
      "cell_type": "code",
      "source": [
        "# Генерация данных для визуализации гистограммы\n",
        "control_data = np.random.binomial(1, 0.10, 500)  # 10% платящих в контрольной группе\n",
        "worse_data = np.random.binomial(1, 0.09, 500)  # 9% платящих в худшем сценарии\n",
        "better_data = np.random.binomial(1, 0.12, 500)  # 12% платящих в лучшем сценарии\n",
        "no_change_data = np.random.binomial(1, 0.10, 500)  # 10% платящих в сценарии без изменений\n",
        "\n",
        "# Создание DataFrame для удобства визуализации\n",
        "df = pd.DataFrame({\n",
        "    \"Control\": control_data,\n",
        "    \"Worse\": worse_data,\n",
        "    \"Better\": better_data,\n",
        "    \"No Change\": no_change_data\n",
        "})\n",
        "\n",
        "# Визуализация гистограммы распределения платежей\n",
        "plt.figure(figsize=(12, 6))\n",
        "sns.histplot(df, multiple=\"dodge\", shrink=.8)\n",
        "plt.title(\"Distribution of Payments in Different Scenarios\")\n",
        "plt.xlabel(\"Payment Status (0 = No Payment, 1 = Payment)\")\n",
        "plt.ylabel(\"Number of Players\")\n",
        "plt.show()\n"
      ],
      "metadata": {
        "colab": {
          "base_uri": "https://localhost:8080/",
          "height": 564
        },
        "id": "88H5DBBOTXpZ",
        "outputId": "6570d87c-b9ac-47b9-8298-4e1a81f6229d"
      },
      "execution_count": 24,
      "outputs": [
        {
          "output_type": "display_data",
          "data": {
            "text/plain": [
              "<Figure size 1200x600 with 1 Axes>"
            ],
            "image/png": "[encoded data removed]"
          },
          "metadata": {}
        }
      ]
    },
    {
      "cell_type": "markdown",
      "source": [
        "На представленной гистограмме вы можете видеть распределение платежей в разных сценариях:  \n",
        "\n",
        "Контрольная группа  \n",
        "Худший сценарий  \n",
        "Лучший сценарий  \n",
        "Без изменений  \n",
        "Каждый столбец показывает количество игроков, которые совершили платежи (1) и не совершили (0) в соответствующем сценарии.  \n",
        "\n",
        "Теперь перейдем к визуализации доверительных интервалов для демонстрации различий в платежных процентах между группами. Это даст нам более четкое представление о статистической значимости результатов."
      ],
      "metadata": {
        "id": "qCLrzWLYUEjU"
      }
    },
    {
      "cell_type": "markdown",
      "source": [
        "**Диаграмма доверительных интервалов:**"
      ],
      "metadata": {
        "id": "7W1Ttq1DUWIe"
      }
    },
    {
      "cell_type": "code",
      "source": [
        "# Данные для визуализации доверительных интервалов\n",
        "ci_data = {\n",
        "    \"Group\": [\"Control\", \"Worse\", \"Better\", \"No Change\"],\n",
        "    \"Mean\": [\n",
        "        control_group_results[\"Paying Percentage\"],\n",
        "        scenario_results[\"Worse Scenario\"][\"Paying Percentage\"],\n",
        "        scenario_results[\"Better Scenario\"][\"Paying Percentage\"],\n",
        "        scenario_results[\"No Change Scenario\"][\"Paying Percentage\"]\n",
        "    ],\n",
        "    \"CI Lower\": [\n",
        "        control_group_results[\"95% CI Lower Bound\"],\n",
        "        scenario_results[\"Worse Scenario\"][\"95% CI Lower Bound\"],\n",
        "        scenario_results[\"Better Scenario\"][\"95% CI Lower Bound\"],\n",
        "        scenario_results[\"No Change Scenario\"][\"95% CI Lower Bound\"]\n",
        "    ],\n",
        "    \"CI Upper\": [\n",
        "        control_group_results[\"95% CI Upper Bound\"],\n",
        "        scenario_results[\"Worse Scenario\"][\"95% CI Upper Bound\"],\n",
        "        scenario_results[\"Better Scenario\"][\"95% CI Upper Bound\"],\n",
        "        scenario_results[\"No Change Scenario\"][\"95% CI Upper Bound\"]\n",
        "    ]\n",
        "}\n",
        "\n",
        "ci_df = pd.DataFrame(ci_data)\n",
        "\n",
        "# Визуализация доверительных интервалов\n",
        "plt.figure(figsize=(12, 6))\n",
        "plt.errorbar(ci_df[\"Group\"], ci_df[\"Mean\"],\n",
        "             yerr=[ci_df[\"Mean\"] - ci_df[\"CI Lower\"], ci_df[\"CI Upper\"] - ci_df[\"Mean\"]],\n",
        "             fmt='o', color='black', ecolor='lightgray', elinewidth=3, capsize=0)\n",
        "plt.title(\"Confidence Intervals of Payment Percentages in Different Scenarios\")\n",
        "plt.xlabel(\"Group\")\n",
        "plt.ylabel(\"Payment Percentage\")\n",
        "plt.grid(True)\n",
        "plt.show()\n"
      ],
      "metadata": {
        "colab": {
          "base_uri": "https://localhost:8080/",
          "height": 564
        },
        "id": "InZp6s_FUSbC",
        "outputId": "43e21781-7238-468a-e1c4-31e9f6244447"
      },
      "execution_count": 25,
      "outputs": [
        {
          "output_type": "display_data",
          "data": {
            "text/plain": [
              "<Figure size 1200x600 with 1 Axes>"
            ],
            "image/png": "[encoded data removed]"
          },
          "metadata": {}
        }
      ]
    },
    {
      "cell_type": "markdown",
      "source": [
        "На представленной диаграмме показаны доверительные интервалы процента платящих игроков для различных сценариев:  \n",
        "\n",
        "Контрольная группа  \n",
        "Худший сценарий  \n",
        "Лучший сценарий  \n",
        "Без изменений  \n",
        "Каждая точка на диаграмме представляет средний процент платящих игроков в соответствующей группе, а линии показывают 95% доверительные интервалы.  \n",
        "\n",
        "Эта визуализация помогает наглядно увидеть степень перекрытия между группами и дает представление о статистической значимости различий между ними.  \n"
      ],
      "metadata": {
        "id": "RptDGW47UjMV"
      }
    },
    {
      "cell_type": "markdown",
      "source": [
        "### **2.11 Заключение**"
      ],
      "metadata": {
        "id": "unZMe4IFU0uL"
      }
    },
    {
      "cell_type": "markdown",
      "source": [
        "В целом, результаты эксперимента и соответствующего анализа показывают, что обновление игры не привело к статистически значимому изменению в проценте платящих игроков. Хотя в лучшем сценарии наблюдалось некоторое увеличение, оно оказалось недостаточным для достижения цели в 11%. Эти выводы могут быть полезны для геймдизайнеров при принятии решений о дальнейших изменениях в игре."
      ],
      "metadata": {
        "id": "fuVhiN8OYvMm"
      }
    },
    {
      "cell_type": "markdown",
      "source": [
        "> <table style=\"width:100%\">\n",
        "  <tr style=\"background-color: white; color: #a34698;\">\n",
        "    <td><b><font size=\"4\">Спасибо за внимание!</font></b></td>\n",
        "  </tr>\n",
        "</table>"
      ],
      "metadata": {
        "id": "7lZZqbt4ZCRd"
      }
    },
    {
      "cell_type": "markdown",
      "source": [
        "</div>\n",
        "<!--END_SECTION:waka-->\n",
        "\n",
        "<img src=\"https://raw.githubusercontent.com/trinib/trinib/82213791fa9ff58d3ca768ddd6de2489ec23ffca/images/footer.svg\" width=\"100%\">"
      ],
      "metadata": {
        "id": "FiMaAif9ZDgd"
      }
    }
  ]
}